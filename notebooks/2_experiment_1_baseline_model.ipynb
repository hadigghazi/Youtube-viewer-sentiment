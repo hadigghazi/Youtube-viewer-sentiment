{
  "cells": [
    {
      "cell_type": "code",
      "execution_count": 1,
      "metadata": {
        "colab": {
          "base_uri": "https://localhost:8080/"
        },
        "id": "Ha3O-_d__JN1",
        "outputId": "c68055cd-2418-4b64-c6f5-45e6aa374551"
      },
      "outputs": [
        {
          "name": "stdout",
          "output_type": "stream",
          "text": [
            "Requirement already satisfied: mlflow in c:\\users\\user\\anaconda3\\envs\\youtube\\lib\\site-packages (2.17.0)\n",
            "Requirement already satisfied: mlflow-skinny==2.17.0 in c:\\users\\user\\anaconda3\\envs\\youtube\\lib\\site-packages (from mlflow) (2.17.0)\n",
            "Requirement already satisfied: Flask<4 in c:\\users\\user\\anaconda3\\envs\\youtube\\lib\\site-packages (from mlflow) (3.0.3)\n",
            "Requirement already satisfied: alembic!=1.10.0,<2 in c:\\users\\user\\anaconda3\\envs\\youtube\\lib\\site-packages (from mlflow) (1.16.5)\n",
            "Requirement already satisfied: docker<8,>=4.0.0 in c:\\users\\user\\anaconda3\\envs\\youtube\\lib\\site-packages (from mlflow) (7.1.0)\n",
            "Requirement already satisfied: graphene<4 in c:\\users\\user\\anaconda3\\envs\\youtube\\lib\\site-packages (from mlflow) (3.4.3)\n",
            "Requirement already satisfied: markdown<4,>=3.3 in c:\\users\\user\\anaconda3\\envs\\youtube\\lib\\site-packages (from mlflow) (3.9)\n",
            "Requirement already satisfied: matplotlib<4 in c:\\users\\user\\anaconda3\\envs\\youtube\\lib\\site-packages (from mlflow) (3.9.2)\n",
            "Requirement already satisfied: numpy<3 in c:\\users\\user\\anaconda3\\envs\\youtube\\lib\\site-packages (from mlflow) (2.1.2)\n",
            "Requirement already satisfied: pandas<3 in c:\\users\\user\\anaconda3\\envs\\youtube\\lib\\site-packages (from mlflow) (2.2.3)\n",
            "Requirement already satisfied: pyarrow<18,>=4.0.0 in c:\\users\\user\\anaconda3\\envs\\youtube\\lib\\site-packages (from mlflow) (17.0.0)\n",
            "Requirement already satisfied: scikit-learn<2 in c:\\users\\user\\anaconda3\\envs\\youtube\\lib\\site-packages (from mlflow) (1.7.2)\n",
            "Requirement already satisfied: scipy<2 in c:\\users\\user\\anaconda3\\envs\\youtube\\lib\\site-packages (from mlflow) (1.16.2)\n",
            "Requirement already satisfied: sqlalchemy<3,>=1.4.0 in c:\\users\\user\\anaconda3\\envs\\youtube\\lib\\site-packages (from mlflow) (2.0.43)\n",
            "Requirement already satisfied: Jinja2<4,>=3.0 in c:\\users\\user\\anaconda3\\envs\\youtube\\lib\\site-packages (from mlflow) (3.1.6)\n",
            "Requirement already satisfied: waitress<4 in c:\\users\\user\\anaconda3\\envs\\youtube\\lib\\site-packages (from mlflow) (3.0.2)\n",
            "Requirement already satisfied: cachetools<6,>=5.0.0 in c:\\users\\user\\anaconda3\\envs\\youtube\\lib\\site-packages (from mlflow-skinny==2.17.0->mlflow) (5.5.2)\n",
            "Requirement already satisfied: click<9,>=7.0 in c:\\users\\user\\anaconda3\\envs\\youtube\\lib\\site-packages (from mlflow-skinny==2.17.0->mlflow) (8.3.0)\n",
            "Requirement already satisfied: cloudpickle<4 in c:\\users\\user\\anaconda3\\envs\\youtube\\lib\\site-packages (from mlflow-skinny==2.17.0->mlflow) (3.1.1)\n",
            "Requirement already satisfied: databricks-sdk<1,>=0.20.0 in c:\\users\\user\\anaconda3\\envs\\youtube\\lib\\site-packages (from mlflow-skinny==2.17.0->mlflow) (0.66.0)\n",
            "Requirement already satisfied: gitpython<4,>=3.1.9 in c:\\users\\user\\anaconda3\\envs\\youtube\\lib\\site-packages (from mlflow-skinny==2.17.0->mlflow) (3.1.45)\n",
            "Requirement already satisfied: importlib-metadata!=4.7.0,<9,>=3.7.0 in c:\\users\\user\\anaconda3\\envs\\youtube\\lib\\site-packages (from mlflow-skinny==2.17.0->mlflow) (8.7.0)\n",
            "Requirement already satisfied: opentelemetry-api<3,>=1.9.0 in c:\\users\\user\\anaconda3\\envs\\youtube\\lib\\site-packages (from mlflow-skinny==2.17.0->mlflow) (1.37.0)\n",
            "Requirement already satisfied: opentelemetry-sdk<3,>=1.9.0 in c:\\users\\user\\anaconda3\\envs\\youtube\\lib\\site-packages (from mlflow-skinny==2.17.0->mlflow) (1.37.0)\n",
            "Requirement already satisfied: packaging<25 in c:\\users\\user\\anaconda3\\envs\\youtube\\lib\\site-packages (from mlflow-skinny==2.17.0->mlflow) (24.2)\n",
            "Requirement already satisfied: protobuf<6,>=3.12.0 in c:\\users\\user\\anaconda3\\envs\\youtube\\lib\\site-packages (from mlflow-skinny==2.17.0->mlflow) (5.29.5)\n",
            "Requirement already satisfied: pyyaml<7,>=5.1 in c:\\users\\user\\anaconda3\\envs\\youtube\\lib\\site-packages (from mlflow-skinny==2.17.0->mlflow) (6.0.2)\n",
            "Requirement already satisfied: requests<3,>=2.17.3 in c:\\users\\user\\anaconda3\\envs\\youtube\\lib\\site-packages (from mlflow-skinny==2.17.0->mlflow) (2.32.5)\n",
            "Requirement already satisfied: sqlparse<1,>=0.4.0 in c:\\users\\user\\anaconda3\\envs\\youtube\\lib\\site-packages (from mlflow-skinny==2.17.0->mlflow) (0.5.3)\n",
            "Requirement already satisfied: Mako in c:\\users\\user\\anaconda3\\envs\\youtube\\lib\\site-packages (from alembic!=1.10.0,<2->mlflow) (1.3.10)\n",
            "Requirement already satisfied: typing-extensions>=4.12 in c:\\users\\user\\anaconda3\\envs\\youtube\\lib\\site-packages (from alembic!=1.10.0,<2->mlflow) (4.15.0)\n",
            "Requirement already satisfied: colorama in c:\\users\\user\\anaconda3\\envs\\youtube\\lib\\site-packages (from click<9,>=7.0->mlflow-skinny==2.17.0->mlflow) (0.4.6)\n",
            "Requirement already satisfied: google-auth~=2.0 in c:\\users\\user\\anaconda3\\envs\\youtube\\lib\\site-packages (from databricks-sdk<1,>=0.20.0->mlflow-skinny==2.17.0->mlflow) (2.40.3)\n",
            "Requirement already satisfied: pywin32>=304 in c:\\users\\user\\anaconda3\\envs\\youtube\\lib\\site-packages (from docker<8,>=4.0.0->mlflow) (311)\n",
            "Requirement already satisfied: urllib3>=1.26.0 in c:\\users\\user\\anaconda3\\envs\\youtube\\lib\\site-packages (from docker<8,>=4.0.0->mlflow) (2.5.0)\n",
            "Requirement already satisfied: Werkzeug>=3.0.0 in c:\\users\\user\\anaconda3\\envs\\youtube\\lib\\site-packages (from Flask<4->mlflow) (3.1.3)\n",
            "Requirement already satisfied: itsdangerous>=2.1.2 in c:\\users\\user\\anaconda3\\envs\\youtube\\lib\\site-packages (from Flask<4->mlflow) (2.2.0)\n",
            "Requirement already satisfied: blinker>=1.6.2 in c:\\users\\user\\anaconda3\\envs\\youtube\\lib\\site-packages (from Flask<4->mlflow) (1.9.0)\n",
            "Requirement already satisfied: gitdb<5,>=4.0.1 in c:\\users\\user\\anaconda3\\envs\\youtube\\lib\\site-packages (from gitpython<4,>=3.1.9->mlflow-skinny==2.17.0->mlflow) (4.0.12)\n",
            "Requirement already satisfied: smmap<6,>=3.0.1 in c:\\users\\user\\anaconda3\\envs\\youtube\\lib\\site-packages (from gitdb<5,>=4.0.1->gitpython<4,>=3.1.9->mlflow-skinny==2.17.0->mlflow) (5.0.2)\n",
            "Requirement already satisfied: pyasn1-modules>=0.2.1 in c:\\users\\user\\anaconda3\\envs\\youtube\\lib\\site-packages (from google-auth~=2.0->databricks-sdk<1,>=0.20.0->mlflow-skinny==2.17.0->mlflow) (0.4.2)\n",
            "Requirement already satisfied: rsa<5,>=3.1.4 in c:\\users\\user\\anaconda3\\envs\\youtube\\lib\\site-packages (from google-auth~=2.0->databricks-sdk<1,>=0.20.0->mlflow-skinny==2.17.0->mlflow) (4.9.1)\n",
            "Requirement already satisfied: graphql-core<3.3,>=3.1 in c:\\users\\user\\anaconda3\\envs\\youtube\\lib\\site-packages (from graphene<4->mlflow) (3.2.6)\n",
            "Requirement already satisfied: graphql-relay<3.3,>=3.1 in c:\\users\\user\\anaconda3\\envs\\youtube\\lib\\site-packages (from graphene<4->mlflow) (3.2.0)\n",
            "Requirement already satisfied: python-dateutil<3,>=2.7.0 in c:\\users\\user\\anaconda3\\envs\\youtube\\lib\\site-packages (from graphene<4->mlflow) (2.9.0.post0)\n",
            "Requirement already satisfied: zipp>=3.20 in c:\\users\\user\\anaconda3\\envs\\youtube\\lib\\site-packages (from importlib-metadata!=4.7.0,<9,>=3.7.0->mlflow-skinny==2.17.0->mlflow) (3.23.0)\n",
            "Requirement already satisfied: MarkupSafe>=2.0 in c:\\users\\user\\anaconda3\\envs\\youtube\\lib\\site-packages (from Jinja2<4,>=3.0->mlflow) (3.0.2)\n",
            "Requirement already satisfied: contourpy>=1.0.1 in c:\\users\\user\\anaconda3\\envs\\youtube\\lib\\site-packages (from matplotlib<4->mlflow) (1.3.3)\n",
            "Requirement already satisfied: cycler>=0.10 in c:\\users\\user\\anaconda3\\envs\\youtube\\lib\\site-packages (from matplotlib<4->mlflow) (0.12.1)\n",
            "Requirement already satisfied: fonttools>=4.22.0 in c:\\users\\user\\anaconda3\\envs\\youtube\\lib\\site-packages (from matplotlib<4->mlflow) (4.60.0)\n",
            "Requirement already satisfied: kiwisolver>=1.3.1 in c:\\users\\user\\anaconda3\\envs\\youtube\\lib\\site-packages (from matplotlib<4->mlflow) (1.4.9)\n",
            "Requirement already satisfied: pillow>=8 in c:\\users\\user\\anaconda3\\envs\\youtube\\lib\\site-packages (from matplotlib<4->mlflow) (11.3.0)\n",
            "Requirement already satisfied: pyparsing>=2.3.1 in c:\\users\\user\\anaconda3\\envs\\youtube\\lib\\site-packages (from matplotlib<4->mlflow) (3.2.5)\n",
            "Requirement already satisfied: opentelemetry-semantic-conventions==0.58b0 in c:\\users\\user\\anaconda3\\envs\\youtube\\lib\\site-packages (from opentelemetry-sdk<3,>=1.9.0->mlflow-skinny==2.17.0->mlflow) (0.58b0)\n",
            "Requirement already satisfied: pytz>=2020.1 in c:\\users\\user\\anaconda3\\envs\\youtube\\lib\\site-packages (from pandas<3->mlflow) (2025.2)\n",
            "Requirement already satisfied: tzdata>=2022.7 in c:\\users\\user\\anaconda3\\envs\\youtube\\lib\\site-packages (from pandas<3->mlflow) (2025.2)\n",
            "Requirement already satisfied: six>=1.5 in c:\\users\\user\\anaconda3\\envs\\youtube\\lib\\site-packages (from python-dateutil<3,>=2.7.0->graphene<4->mlflow) (1.17.0)\n",
            "Requirement already satisfied: charset_normalizer<4,>=2 in c:\\users\\user\\anaconda3\\envs\\youtube\\lib\\site-packages (from requests<3,>=2.17.3->mlflow-skinny==2.17.0->mlflow) (3.4.3)\n",
            "Requirement already satisfied: idna<4,>=2.5 in c:\\users\\user\\anaconda3\\envs\\youtube\\lib\\site-packages (from requests<3,>=2.17.3->mlflow-skinny==2.17.0->mlflow) (3.10)\n",
            "Requirement already satisfied: certifi>=2017.4.17 in c:\\users\\user\\anaconda3\\envs\\youtube\\lib\\site-packages (from requests<3,>=2.17.3->mlflow-skinny==2.17.0->mlflow) (2025.8.3)\n",
            "Requirement already satisfied: pyasn1>=0.1.3 in c:\\users\\user\\anaconda3\\envs\\youtube\\lib\\site-packages (from rsa<5,>=3.1.4->google-auth~=2.0->databricks-sdk<1,>=0.20.0->mlflow-skinny==2.17.0->mlflow) (0.6.1)\n",
            "Requirement already satisfied: joblib>=1.2.0 in c:\\users\\user\\anaconda3\\envs\\youtube\\lib\\site-packages (from scikit-learn<2->mlflow) (1.4.2)\n",
            "Requirement already satisfied: threadpoolctl>=3.1.0 in c:\\users\\user\\anaconda3\\envs\\youtube\\lib\\site-packages (from scikit-learn<2->mlflow) (3.6.0)\n",
            "Requirement already satisfied: greenlet>=1 in c:\\users\\user\\anaconda3\\envs\\youtube\\lib\\site-packages (from sqlalchemy<3,>=1.4.0->mlflow) (3.2.4)\n"
          ]
        }
      ],
      "source": [
        "!pip install mlflow"
      ]
    },
    {
      "cell_type": "code",
      "execution_count": 2,
      "metadata": {
        "colab": {
          "base_uri": "https://localhost:8080/"
        },
        "id": "OTr4F1Vj_OPp",
        "outputId": "b5d2c425-e4b8-4498-d7f2-8221541872ac"
      },
      "outputs": [
        {
          "name": "stderr",
          "output_type": "stream",
          "text": [
            "2025/09/25 13:16:04 INFO mlflow.tracking._tracking_service.client: 🏃 View run caring-stoat-424 at: http://ec2-54-159-96-0.compute-1.amazonaws.com:5000/#/experiments/0/runs/e4682e5339a84cda8abec4edc912f6be.\n",
            "2025/09/25 13:16:04 INFO mlflow.tracking._tracking_service.client: 🧪 View experiment at: http://ec2-54-159-96-0.compute-1.amazonaws.com:5000/#/experiments/0.\n"
          ]
        }
      ],
      "source": [
        "# Test mlflow\n",
        "\n",
        "import mlflow\n",
        "\n",
        "mlflow.set_tracking_uri(\"http://ec2-54-159-96-0.compute-1.amazonaws.com:5000/\")\n",
        "\n",
        "with mlflow.start_run():\n",
        "    mlflow.log_param(\"param1\", 15)\n",
        "    mlflow.log_metric(\"metric1\", 0.89)"
      ]
    },
    {
      "cell_type": "code",
      "execution_count": 3,
      "metadata": {
        "id": "gT5_m6-_Rrad"
      },
      "outputs": [],
      "source": [
        "#creating baseline model\n",
        "\n",
        "import numpy as np\n",
        "import pandas as pd"
      ]
    },
    {
      "cell_type": "code",
      "execution_count": 4,
      "metadata": {
        "colab": {
          "base_uri": "https://localhost:8080/",
          "height": 206
        },
        "id": "u3hxNz36b6_7",
        "outputId": "08ec721a-a126-46ad-f93b-bbdd7e0e14a7"
      },
      "outputs": [
        {
          "data": {
            "text/html": [
              "<div>\n",
              "<style scoped>\n",
              "    .dataframe tbody tr th:only-of-type {\n",
              "        vertical-align: middle;\n",
              "    }\n",
              "\n",
              "    .dataframe tbody tr th {\n",
              "        vertical-align: top;\n",
              "    }\n",
              "\n",
              "    .dataframe thead th {\n",
              "        text-align: right;\n",
              "    }\n",
              "</style>\n",
              "<table border=\"1\" class=\"dataframe\">\n",
              "  <thead>\n",
              "    <tr style=\"text-align: right;\">\n",
              "      <th></th>\n",
              "      <th>clean_comment</th>\n",
              "      <th>category</th>\n",
              "    </tr>\n",
              "  </thead>\n",
              "  <tbody>\n",
              "    <tr>\n",
              "      <th>0</th>\n",
              "      <td>family mormon have never tried explain them t...</td>\n",
              "      <td>1</td>\n",
              "    </tr>\n",
              "    <tr>\n",
              "      <th>1</th>\n",
              "      <td>buddhism has very much lot compatible with chr...</td>\n",
              "      <td>1</td>\n",
              "    </tr>\n",
              "    <tr>\n",
              "      <th>2</th>\n",
              "      <td>seriously don say thing first all they won get...</td>\n",
              "      <td>-1</td>\n",
              "    </tr>\n",
              "    <tr>\n",
              "      <th>3</th>\n",
              "      <td>what you have learned yours and only yours wha...</td>\n",
              "      <td>0</td>\n",
              "    </tr>\n",
              "    <tr>\n",
              "      <th>4</th>\n",
              "      <td>for your own benefit you may want read living ...</td>\n",
              "      <td>1</td>\n",
              "    </tr>\n",
              "  </tbody>\n",
              "</table>\n",
              "</div>"
            ],
            "text/plain": [
              "                                       clean_comment  category\n",
              "0   family mormon have never tried explain them t...         1\n",
              "1  buddhism has very much lot compatible with chr...         1\n",
              "2  seriously don say thing first all they won get...        -1\n",
              "3  what you have learned yours and only yours wha...         0\n",
              "4  for your own benefit you may want read living ...         1"
            ]
          },
          "execution_count": 4,
          "metadata": {},
          "output_type": "execute_result"
        }
      ],
      "source": [
        "df = pd.read_csv('https://raw.githubusercontent.com/Himanshu-1703/reddit-sentiment-analysis/refs/heads/main/data/reddit.csv')\n",
        "df.head()"
      ]
    },
    {
      "cell_type": "code",
      "execution_count": 5,
      "metadata": {
        "id": "-Apko0jpb87p"
      },
      "outputs": [],
      "source": [
        "df.dropna(inplace=True)"
      ]
    },
    {
      "cell_type": "code",
      "execution_count": 6,
      "metadata": {
        "id": "BIzRs9YZcAlR"
      },
      "outputs": [],
      "source": [
        "df.drop_duplicates(inplace=True)"
      ]
    },
    {
      "cell_type": "code",
      "execution_count": 7,
      "metadata": {
        "id": "BDy25RHPcDQH"
      },
      "outputs": [],
      "source": [
        "df = df[~(df['clean_comment'].str.strip() == '')]"
      ]
    },
    {
      "cell_type": "code",
      "execution_count": 8,
      "metadata": {
        "id": "RS5937JRcFZY"
      },
      "outputs": [],
      "source": [
        "import re\n",
        "import nltk\n",
        "from nltk.corpus import stopwords\n",
        "from nltk.stem import WordNetLemmatizer"
      ]
    },
    {
      "cell_type": "code",
      "execution_count": 9,
      "metadata": {
        "colab": {
          "base_uri": "https://localhost:8080/"
        },
        "id": "j_um_s1pc2Bo",
        "outputId": "f6c8a40d-1140-47fc-9177-9c894e94dcb8"
      },
      "outputs": [
        {
          "name": "stderr",
          "output_type": "stream",
          "text": [
            "[nltk_data] Downloading package stopwords to\n",
            "[nltk_data]     C:\\Users\\User\\AppData\\Roaming\\nltk_data...\n",
            "[nltk_data]   Package stopwords is already up-to-date!\n",
            "[nltk_data] Downloading package wordnet to\n",
            "[nltk_data]     C:\\Users\\User\\AppData\\Roaming\\nltk_data...\n",
            "[nltk_data]   Package wordnet is already up-to-date!\n"
          ]
        },
        {
          "data": {
            "text/plain": [
              "True"
            ]
          },
          "execution_count": 9,
          "metadata": {},
          "output_type": "execute_result"
        }
      ],
      "source": [
        "# Ensure necessary NLTK data is downloaded\n",
        "nltk.download('stopwords')\n",
        "nltk.download('wordnet')"
      ]
    },
    {
      "cell_type": "code",
      "execution_count": 10,
      "metadata": {
        "id": "zsbpkHfIc39y"
      },
      "outputs": [],
      "source": [
        "# Define the preprocessing function\n",
        "def preprocess_comment(comment):\n",
        "    # Convert to lowercase\n",
        "    comment = comment.lower()\n",
        "\n",
        "    # Remove trailing and leading whitespaces\n",
        "    comment = comment.strip()\n",
        "\n",
        "    # Remove newline characters\n",
        "    comment = re.sub(r'\\n', ' ', comment)\n",
        "\n",
        "    # Remove non-alphanumeric characters, except punctuation\n",
        "    comment = re.sub(r'[^A-Za-z0-9\\s!?.,]', '', comment)\n",
        "\n",
        "    # Remove stopwords but retain important ones for sentiment analysis\n",
        "    stop_words = set(stopwords.words('english')) - {'not', 'but', 'however', 'no', 'yet'}\n",
        "    comment = ' '.join([word for word in comment.split() if word not in stop_words])\n",
        "\n",
        "    # Lemmatize the words\n",
        "    lemmatizer = WordNetLemmatizer()\n",
        "    comment = ' '.join([lemmatizer.lemmatize(word) for word in comment.split()])\n",
        "\n",
        "    return comment"
      ]
    },
    {
      "cell_type": "code",
      "execution_count": 11,
      "metadata": {
        "id": "3I0cY3nNc6wK"
      },
      "outputs": [],
      "source": [
        "# Apply the preprocessing function to the 'clean_comment' column\n",
        "df['clean_comment'] = df['clean_comment'].apply(preprocess_comment)"
      ]
    },
    {
      "cell_type": "code",
      "execution_count": 12,
      "metadata": {
        "colab": {
          "base_uri": "https://localhost:8080/",
          "height": 206
        },
        "id": "rQoUyz9Rc9Az",
        "outputId": "d20cae31-272b-4bf8-d706-47f8f632117a"
      },
      "outputs": [
        {
          "data": {
            "text/html": [
              "<div>\n",
              "<style scoped>\n",
              "    .dataframe tbody tr th:only-of-type {\n",
              "        vertical-align: middle;\n",
              "    }\n",
              "\n",
              "    .dataframe tbody tr th {\n",
              "        vertical-align: top;\n",
              "    }\n",
              "\n",
              "    .dataframe thead th {\n",
              "        text-align: right;\n",
              "    }\n",
              "</style>\n",
              "<table border=\"1\" class=\"dataframe\">\n",
              "  <thead>\n",
              "    <tr style=\"text-align: right;\">\n",
              "      <th></th>\n",
              "      <th>clean_comment</th>\n",
              "      <th>category</th>\n",
              "    </tr>\n",
              "  </thead>\n",
              "  <tbody>\n",
              "    <tr>\n",
              "      <th>0</th>\n",
              "      <td>family mormon never tried explain still stare ...</td>\n",
              "      <td>1</td>\n",
              "    </tr>\n",
              "    <tr>\n",
              "      <th>1</th>\n",
              "      <td>buddhism much lot compatible christianity espe...</td>\n",
              "      <td>1</td>\n",
              "    </tr>\n",
              "    <tr>\n",
              "      <th>2</th>\n",
              "      <td>seriously say thing first get complex explain ...</td>\n",
              "      <td>-1</td>\n",
              "    </tr>\n",
              "    <tr>\n",
              "      <th>3</th>\n",
              "      <td>learned want teach different focus goal not wr...</td>\n",
              "      <td>0</td>\n",
              "    </tr>\n",
              "    <tr>\n",
              "      <th>4</th>\n",
              "      <td>benefit may want read living buddha living chr...</td>\n",
              "      <td>1</td>\n",
              "    </tr>\n",
              "  </tbody>\n",
              "</table>\n",
              "</div>"
            ],
            "text/plain": [
              "                                       clean_comment  category\n",
              "0  family mormon never tried explain still stare ...         1\n",
              "1  buddhism much lot compatible christianity espe...         1\n",
              "2  seriously say thing first get complex explain ...        -1\n",
              "3  learned want teach different focus goal not wr...         0\n",
              "4  benefit may want read living buddha living chr...         1"
            ]
          },
          "execution_count": 12,
          "metadata": {},
          "output_type": "execute_result"
        }
      ],
      "source": [
        "df.head()"
      ]
    },
    {
      "cell_type": "code",
      "execution_count": 13,
      "metadata": {
        "id": "GRF5A1ZCdBck"
      },
      "outputs": [],
      "source": [
        "import mlflow\n",
        "import mlflow.sklearn\n",
        "from sklearn.ensemble import RandomForestClassifier\n",
        "from sklearn.feature_extraction.text import CountVectorizer\n",
        "from sklearn.model_selection import train_test_split, cross_val_predict, StratifiedKFold\n",
        "from sklearn.metrics import accuracy_score, classification_report, confusion_matrix\n",
        "import pandas as pd\n",
        "import matplotlib.pyplot as plt\n",
        "import seaborn as sns"
      ]
    },
    {
      "cell_type": "code",
      "execution_count": 14,
      "metadata": {
        "id": "EAKFpLNig7B2"
      },
      "outputs": [],
      "source": [
        "# Step 1: Vectorize the comments using Bag of Words (CountVectorizer)\n",
        "vectorizer = CountVectorizer(max_features=10000)  # Bag of Words model with a limit of 1000 features"
      ]
    },
    {
      "cell_type": "code",
      "execution_count": 15,
      "metadata": {
        "id": "DEbBOYO9g-jq"
      },
      "outputs": [],
      "source": [
        "X = vectorizer.fit_transform(df['clean_comment']).toarray()\n",
        "y = df['category']  # Assuming 'sentiment' is the target variable (0 or 1 for binary classification)"
      ]
    },
    {
      "cell_type": "code",
      "execution_count": 16,
      "metadata": {
        "colab": {
          "base_uri": "https://localhost:8080/"
        },
        "id": "_clGUqHEhBf0",
        "outputId": "c0d2cbca-0a55-4222-aac3-9528d347009c"
      },
      "outputs": [
        {
          "data": {
            "text/plain": [
              "array([[0, 0, 0, ..., 0, 0, 0],\n",
              "       [0, 0, 0, ..., 0, 0, 0],\n",
              "       [0, 0, 0, ..., 0, 0, 0],\n",
              "       ...,\n",
              "       [0, 0, 0, ..., 0, 0, 0],\n",
              "       [0, 0, 0, ..., 0, 0, 0],\n",
              "       [0, 0, 0, ..., 0, 0, 0]])"
            ]
          },
          "execution_count": 16,
          "metadata": {},
          "output_type": "execute_result"
        }
      ],
      "source": [
        "X"
      ]
    },
    {
      "cell_type": "code",
      "execution_count": 17,
      "metadata": {
        "colab": {
          "base_uri": "https://localhost:8080/"
        },
        "id": "SFtHOYDehF3A",
        "outputId": "4e4dd084-9628-4dcc-bbeb-399d1b87c2f2"
      },
      "outputs": [
        {
          "data": {
            "text/plain": [
              "(36793, 10000)"
            ]
          },
          "execution_count": 17,
          "metadata": {},
          "output_type": "execute_result"
        }
      ],
      "source": [
        "X.shape"
      ]
    },
    {
      "cell_type": "code",
      "execution_count": 19,
      "metadata": {
        "colab": {
          "base_uri": "https://localhost:8080/",
          "height": 458
        },
        "id": "bXvMvOOshMlc",
        "outputId": "49cab91a-bba7-49c0-d5fe-9e587ba88ee9"
      },
      "outputs": [
        {
          "data": {
            "text/plain": [
              "0        1\n",
              "1        1\n",
              "2       -1\n",
              "3        0\n",
              "4        1\n",
              "        ..\n",
              "37244    0\n",
              "37245    1\n",
              "37246    0\n",
              "37247    1\n",
              "37248    0\n",
              "Name: category, Length: 36793, dtype: int64"
            ]
          },
          "execution_count": 19,
          "metadata": {},
          "output_type": "execute_result"
        }
      ],
      "source": [
        "y"
      ]
    },
    {
      "cell_type": "code",
      "execution_count": 20,
      "metadata": {
        "colab": {
          "base_uri": "https://localhost:8080/"
        },
        "id": "efCnt68yhNs8",
        "outputId": "87ec24ee-b4fc-4a96-cd5a-f64dc284f799"
      },
      "outputs": [
        {
          "data": {
            "text/plain": [
              "(36793,)"
            ]
          },
          "execution_count": 20,
          "metadata": {},
          "output_type": "execute_result"
        }
      ],
      "source": [
        "y.shape"
      ]
    },
    {
      "cell_type": "code",
      "execution_count": 21,
      "metadata": {
        "id": "op6TubXQhPfw"
      },
      "outputs": [],
      "source": [
        "# Step 2: Set up the MLflow tracking server\n",
        "mlflow.set_tracking_uri(\"http://ec2-54-159-96-0.compute-1.amazonaws.com:5000/\")"
      ]
    },
    {
      "cell_type": "code",
      "execution_count": 22,
      "metadata": {
        "colab": {
          "base_uri": "https://localhost:8080/"
        },
        "id": "PIyYuCwVhUeE",
        "outputId": "532fb4d7-541f-49c3-f6e1-c4d746eebb9b"
      },
      "outputs": [
        {
          "name": "stderr",
          "output_type": "stream",
          "text": [
            "2025/09/25 13:30:08 INFO mlflow.tracking.fluent: Experiment with name 'RF Baseline' does not exist. Creating a new experiment.\n"
          ]
        },
        {
          "data": {
            "text/plain": [
              "<Experiment: artifact_location='s3://mlflow-bucket-102/368303739779906751', creation_time=1758796208700, experiment_id='368303739779906751', last_update_time=1758796208700, lifecycle_stage='active', name='RF Baseline', tags={}>"
            ]
          },
          "execution_count": 22,
          "metadata": {},
          "output_type": "execute_result"
        }
      ],
      "source": [
        "# Set or create an experiment\n",
        "mlflow.set_experiment(\"RF Baseline\")"
      ]
    },
    {
      "cell_type": "code",
      "execution_count": 23,
      "metadata": {
        "colab": {
          "base_uri": "https://localhost:8080/"
        },
        "id": "QOJLJ57N4lso",
        "outputId": "280f17b0-ae0a-4626-cc58-57db89f51b5e"
      },
      "outputs": [
        {
          "name": "stdout",
          "output_type": "stream",
          "text": [
            "Requirement already satisfied: boto3 in c:\\users\\user\\anaconda3\\envs\\youtube\\lib\\site-packages (1.35.36)\n",
            "Requirement already satisfied: botocore<1.36.0,>=1.35.36 in c:\\users\\user\\anaconda3\\envs\\youtube\\lib\\site-packages (from boto3) (1.35.36)\n",
            "Requirement already satisfied: jmespath<2.0.0,>=0.7.1 in c:\\users\\user\\anaconda3\\envs\\youtube\\lib\\site-packages (from boto3) (1.0.1)\n",
            "Requirement already satisfied: s3transfer<0.11.0,>=0.10.0 in c:\\users\\user\\anaconda3\\envs\\youtube\\lib\\site-packages (from boto3) (0.10.4)\n",
            "Requirement already satisfied: python-dateutil<3.0.0,>=2.1 in c:\\users\\user\\anaconda3\\envs\\youtube\\lib\\site-packages (from botocore<1.36.0,>=1.35.36->boto3) (2.9.0.post0)\n",
            "Requirement already satisfied: urllib3!=2.2.0,<3,>=1.25.4 in c:\\users\\user\\anaconda3\\envs\\youtube\\lib\\site-packages (from botocore<1.36.0,>=1.35.36->boto3) (2.5.0)\n",
            "Requirement already satisfied: six>=1.5 in c:\\users\\user\\anaconda3\\envs\\youtube\\lib\\site-packages (from python-dateutil<3.0.0,>=2.1->botocore<1.36.0,>=1.35.36->boto3) (1.17.0)\n"
          ]
        }
      ],
      "source": [
        "!pip install boto3"
      ]
    },
    {
      "cell_type": "code",
      "execution_count": 24,
      "metadata": {
        "colab": {
          "base_uri": "https://localhost:8080/"
        },
        "id": "RKy5_QuH4m9x",
        "outputId": "b43f5721-5fa2-4729-b727-149ac75f1bc0"
      },
      "outputs": [
        {
          "name": "stdout",
          "output_type": "stream",
          "text": [
            "Collecting awscli\n",
            "  Downloading awscli-1.42.38-py3-none-any.whl.metadata (11 kB)\n",
            "Collecting botocore==1.40.38 (from awscli)\n",
            "  Downloading botocore-1.40.38-py3-none-any.whl.metadata (5.7 kB)\n",
            "Collecting docutils<=0.19,>=0.18.1 (from awscli)\n",
            "  Downloading docutils-0.19-py3-none-any.whl.metadata (2.7 kB)\n",
            "Collecting s3transfer<0.15.0,>=0.14.0 (from awscli)\n",
            "  Downloading s3transfer-0.14.0-py3-none-any.whl.metadata (1.7 kB)\n",
            "Requirement already satisfied: PyYAML<6.1,>=3.10 in c:\\users\\user\\anaconda3\\envs\\youtube\\lib\\site-packages (from awscli) (6.0.2)\n",
            "Requirement already satisfied: colorama<0.4.7,>=0.2.5 in c:\\users\\user\\anaconda3\\envs\\youtube\\lib\\site-packages (from awscli) (0.4.6)\n",
            "Collecting rsa<4.8,>=3.1.2 (from awscli)\n",
            "  Downloading rsa-4.7.2-py3-none-any.whl.metadata (3.6 kB)\n",
            "Requirement already satisfied: jmespath<2.0.0,>=0.7.1 in c:\\users\\user\\anaconda3\\envs\\youtube\\lib\\site-packages (from botocore==1.40.38->awscli) (1.0.1)\n",
            "Requirement already satisfied: python-dateutil<3.0.0,>=2.1 in c:\\users\\user\\anaconda3\\envs\\youtube\\lib\\site-packages (from botocore==1.40.38->awscli) (2.9.0.post0)\n",
            "Requirement already satisfied: urllib3!=2.2.0,<3,>=1.25.4 in c:\\users\\user\\anaconda3\\envs\\youtube\\lib\\site-packages (from botocore==1.40.38->awscli) (2.5.0)\n",
            "Requirement already satisfied: six>=1.5 in c:\\users\\user\\anaconda3\\envs\\youtube\\lib\\site-packages (from python-dateutil<3.0.0,>=2.1->botocore==1.40.38->awscli) (1.17.0)\n",
            "Requirement already satisfied: pyasn1>=0.1.3 in c:\\users\\user\\anaconda3\\envs\\youtube\\lib\\site-packages (from rsa<4.8,>=3.1.2->awscli) (0.6.1)\n",
            "Downloading awscli-1.42.38-py3-none-any.whl (4.7 MB)\n",
            "   ---------------------------------------- 0.0/4.7 MB ? eta -:--:--\n",
            "   ---------------------------------------- 0.0/4.7 MB ? eta -:--:--\n",
            "   ---------------------------------------- 0.0/4.7 MB ? eta -:--:--\n",
            "   ---------------------------------------- 0.0/4.7 MB ? eta -:--:--\n",
            "   -- ------------------------------------- 0.3/4.7 MB ? eta -:--:--\n",
            "   -- ------------------------------------- 0.3/4.7 MB ? eta -:--:--\n",
            "   -- ------------------------------------- 0.3/4.7 MB ? eta -:--:--\n",
            "   -- ------------------------------------- 0.3/4.7 MB ? eta -:--:--\n",
            "   -- ------------------------------------- 0.3/4.7 MB ? eta -:--:--\n",
            "   ---- ----------------------------------- 0.5/4.7 MB 242.9 kB/s eta 0:00:18\n",
            "   ---- ----------------------------------- 0.5/4.7 MB 242.9 kB/s eta 0:00:18\n",
            "   ---- ----------------------------------- 0.5/4.7 MB 242.9 kB/s eta 0:00:18\n",
            "   ---- ----------------------------------- 0.5/4.7 MB 242.9 kB/s eta 0:00:18\n",
            "   ------ --------------------------------- 0.8/4.7 MB 284.3 kB/s eta 0:00:14\n",
            "   ------ --------------------------------- 0.8/4.7 MB 284.3 kB/s eta 0:00:14\n",
            "   ------ --------------------------------- 0.8/4.7 MB 284.3 kB/s eta 0:00:14\n",
            "   -------- ------------------------------- 1.0/4.7 MB 320.5 kB/s eta 0:00:12\n",
            "   -------- ------------------------------- 1.0/4.7 MB 320.5 kB/s eta 0:00:12\n",
            "   -------- ------------------------------- 1.0/4.7 MB 320.5 kB/s eta 0:00:12\n",
            "   -------- ------------------------------- 1.0/4.7 MB 320.5 kB/s eta 0:00:12\n",
            "   ----------- ---------------------------- 1.3/4.7 MB 324.1 kB/s eta 0:00:11\n",
            "   ----------- ---------------------------- 1.3/4.7 MB 324.1 kB/s eta 0:00:11\n",
            "   ----------- ---------------------------- 1.3/4.7 MB 324.1 kB/s eta 0:00:11\n",
            "   ----------- ---------------------------- 1.3/4.7 MB 324.1 kB/s eta 0:00:11\n",
            "   ----------- ---------------------------- 1.3/4.7 MB 324.1 kB/s eta 0:00:11\n",
            "   ------------- -------------------------- 1.6/4.7 MB 298.5 kB/s eta 0:00:11\n",
            "   ------------- -------------------------- 1.6/4.7 MB 298.5 kB/s eta 0:00:11\n",
            "   ------------- -------------------------- 1.6/4.7 MB 298.5 kB/s eta 0:00:11\n",
            "   ------------- -------------------------- 1.6/4.7 MB 298.5 kB/s eta 0:00:11\n",
            "   ------------- -------------------------- 1.6/4.7 MB 298.5 kB/s eta 0:00:11\n",
            "   --------------- ------------------------ 1.8/4.7 MB 290.1 kB/s eta 0:00:10\n",
            "   --------------- ------------------------ 1.8/4.7 MB 290.1 kB/s eta 0:00:10\n",
            "   --------------- ------------------------ 1.8/4.7 MB 290.1 kB/s eta 0:00:10\n",
            "   --------------- ------------------------ 1.8/4.7 MB 290.1 kB/s eta 0:00:10\n",
            "   --------------- ------------------------ 1.8/4.7 MB 290.1 kB/s eta 0:00:10\n",
            "   ----------------- ---------------------- 2.1/4.7 MB 286.4 kB/s eta 0:00:09\n",
            "   ----------------- ---------------------- 2.1/4.7 MB 286.4 kB/s eta 0:00:09\n",
            "   ----------------- ---------------------- 2.1/4.7 MB 286.4 kB/s eta 0:00:09\n",
            "   ----------------- ---------------------- 2.1/4.7 MB 286.4 kB/s eta 0:00:09\n",
            "   ----------------- ---------------------- 2.1/4.7 MB 286.4 kB/s eta 0:00:09\n",
            "   -------------------- ------------------- 2.4/4.7 MB 280.8 kB/s eta 0:00:09\n",
            "   -------------------- ------------------- 2.4/4.7 MB 280.8 kB/s eta 0:00:09\n",
            "   -------------------- ------------------- 2.4/4.7 MB 280.8 kB/s eta 0:00:09\n",
            "   -------------------- ------------------- 2.4/4.7 MB 280.8 kB/s eta 0:00:09\n",
            "   -------------------- ------------------- 2.4/4.7 MB 280.8 kB/s eta 0:00:09\n",
            "   -------------------- ------------------- 2.4/4.7 MB 280.8 kB/s eta 0:00:09\n",
            "   ---------------------- ----------------- 2.6/4.7 MB 266.8 kB/s eta 0:00:08\n",
            "   ---------------------- ----------------- 2.6/4.7 MB 266.8 kB/s eta 0:00:08\n",
            "   ---------------------- ----------------- 2.6/4.7 MB 266.8 kB/s eta 0:00:08\n",
            "   ---------------------- ----------------- 2.6/4.7 MB 266.8 kB/s eta 0:00:08\n",
            "   ---------------------- ----------------- 2.6/4.7 MB 266.8 kB/s eta 0:00:08\n",
            "   ---------------------- ----------------- 2.6/4.7 MB 266.8 kB/s eta 0:00:08\n",
            "   ------------------------ --------------- 2.9/4.7 MB 260.1 kB/s eta 0:00:07\n",
            "   ------------------------ --------------- 2.9/4.7 MB 260.1 kB/s eta 0:00:07\n",
            "   ------------------------ --------------- 2.9/4.7 MB 260.1 kB/s eta 0:00:07\n",
            "   ------------------------ --------------- 2.9/4.7 MB 260.1 kB/s eta 0:00:07\n",
            "   ------------------------ --------------- 2.9/4.7 MB 260.1 kB/s eta 0:00:07\n",
            "   ------------------------ --------------- 2.9/4.7 MB 260.1 kB/s eta 0:00:07\n",
            "   ------------------------ --------------- 2.9/4.7 MB 260.1 kB/s eta 0:00:07\n",
            "   ------------------------ --------------- 2.9/4.7 MB 260.1 kB/s eta 0:00:07\n",
            "   -------------------------- ------------- 3.1/4.7 MB 245.7 kB/s eta 0:00:07\n",
            "   -------------------------- ------------- 3.1/4.7 MB 245.7 kB/s eta 0:00:07\n",
            "   -------------------------- ------------- 3.1/4.7 MB 245.7 kB/s eta 0:00:07\n",
            "   -------------------------- ------------- 3.1/4.7 MB 245.7 kB/s eta 0:00:07\n",
            "   -------------------------- ------------- 3.1/4.7 MB 245.7 kB/s eta 0:00:07\n",
            "   -------------------------- ------------- 3.1/4.7 MB 245.7 kB/s eta 0:00:07\n",
            "   -------------------------- ------------- 3.1/4.7 MB 245.7 kB/s eta 0:00:07\n",
            "   -------------------------- ------------- 3.1/4.7 MB 245.7 kB/s eta 0:00:07\n",
            "   -------------------------- ------------- 3.1/4.7 MB 245.7 kB/s eta 0:00:07\n",
            "   ----------------------------- ---------- 3.4/4.7 MB 230.9 kB/s eta 0:00:06\n",
            "   ----------------------------- ---------- 3.4/4.7 MB 230.9 kB/s eta 0:00:06\n",
            "   ----------------------------- ---------- 3.4/4.7 MB 230.9 kB/s eta 0:00:06\n",
            "   ----------------------------- ---------- 3.4/4.7 MB 230.9 kB/s eta 0:00:06\n",
            "   ----------------------------- ---------- 3.4/4.7 MB 230.9 kB/s eta 0:00:06\n",
            "   ------------------------------- -------- 3.7/4.7 MB 231.5 kB/s eta 0:00:05\n",
            "   ------------------------------- -------- 3.7/4.7 MB 231.5 kB/s eta 0:00:05\n",
            "   ------------------------------- -------- 3.7/4.7 MB 231.5 kB/s eta 0:00:05\n",
            "   ------------------------------- -------- 3.7/4.7 MB 231.5 kB/s eta 0:00:05\n",
            "   ------------------------------- -------- 3.7/4.7 MB 231.5 kB/s eta 0:00:05\n",
            "   ------------------------------- -------- 3.7/4.7 MB 231.5 kB/s eta 0:00:05\n",
            "   ------------------------------- -------- 3.7/4.7 MB 231.5 kB/s eta 0:00:05\n",
            "   --------------------------------- ------ 3.9/4.7 MB 227.6 kB/s eta 0:00:04\n",
            "   --------------------------------- ------ 3.9/4.7 MB 227.6 kB/s eta 0:00:04\n",
            "   --------------------------------- ------ 3.9/4.7 MB 227.6 kB/s eta 0:00:04\n",
            "   --------------------------------- ------ 3.9/4.7 MB 227.6 kB/s eta 0:00:04\n",
            "   --------------------------------- ------ 3.9/4.7 MB 227.6 kB/s eta 0:00:04\n",
            "   --------------------------------- ------ 3.9/4.7 MB 227.6 kB/s eta 0:00:04\n",
            "   ----------------------------------- ---- 4.2/4.7 MB 226.3 kB/s eta 0:00:03\n",
            "   ----------------------------------- ---- 4.2/4.7 MB 226.3 kB/s eta 0:00:03\n",
            "   ----------------------------------- ---- 4.2/4.7 MB 226.3 kB/s eta 0:00:03\n",
            "   ----------------------------------- ---- 4.2/4.7 MB 226.3 kB/s eta 0:00:03\n",
            "   ----------------------------------- ---- 4.2/4.7 MB 226.3 kB/s eta 0:00:03\n",
            "   ----------------------------------- ---- 4.2/4.7 MB 226.3 kB/s eta 0:00:03\n",
            "   ----------------------------------- ---- 4.2/4.7 MB 226.3 kB/s eta 0:00:03\n",
            "   ----------------------------------- ---- 4.2/4.7 MB 226.3 kB/s eta 0:00:03\n",
            "   ----------------------------------- ---- 4.2/4.7 MB 226.3 kB/s eta 0:00:03\n",
            "   ----------------------------------- ---- 4.2/4.7 MB 226.3 kB/s eta 0:00:03\n",
            "   ----------------------------------- ---- 4.2/4.7 MB 226.3 kB/s eta 0:00:03\n",
            "   ----------------------------------- ---- 4.2/4.7 MB 226.3 kB/s eta 0:00:03\n",
            "   -------------------------------------- - 4.5/4.7 MB 210.9 kB/s eta 0:00:01\n",
            "   -------------------------------------- - 4.5/4.7 MB 210.9 kB/s eta 0:00:01\n",
            "   -------------------------------------- - 4.5/4.7 MB 210.9 kB/s eta 0:00:01\n",
            "   -------------------------------------- - 4.5/4.7 MB 210.9 kB/s eta 0:00:01\n",
            "   -------------------------------------- - 4.5/4.7 MB 210.9 kB/s eta 0:00:01\n",
            "   -------------------------------------- - 4.5/4.7 MB 210.9 kB/s eta 0:00:01\n",
            "   -------------------------------------- - 4.5/4.7 MB 210.9 kB/s eta 0:00:01\n",
            "   -------------------------------------- - 4.5/4.7 MB 210.9 kB/s eta 0:00:01\n",
            "   -------------------------------------- - 4.5/4.7 MB 210.9 kB/s eta 0:00:01\n",
            "   -------------------------------------- - 4.5/4.7 MB 210.9 kB/s eta 0:00:01\n",
            "   -------------------------------------- - 4.5/4.7 MB 210.9 kB/s eta 0:00:01\n",
            "   -------------------------------------- - 4.5/4.7 MB 210.9 kB/s eta 0:00:01\n",
            "   -------------------------------------- - 4.5/4.7 MB 210.9 kB/s eta 0:00:01\n",
            "   ---------------------------------------- 4.7/4.7 MB 194.7 kB/s  0:00:23\n",
            "Downloading botocore-1.40.38-py3-none-any.whl (14.0 MB)\n",
            "   ---------------------------------------- 0.0/14.0 MB ? eta -:--:--\n",
            "   ---------------------------------------- 0.0/14.0 MB ? eta -:--:--\n",
            "   ---------------------------------------- 0.0/14.0 MB ? eta -:--:--\n",
            "   ---------------------------------------- 0.0/14.0 MB ? eta -:--:--\n",
            "   ---------------------------------------- 0.0/14.0 MB ? eta -:--:--\n",
            "   ---------------------------------------- 0.0/14.0 MB ? eta -:--:--\n",
            "   ---------------------------------------- 0.0/14.0 MB ? eta -:--:--\n",
            "   ---------------------------------------- 0.0/14.0 MB ? eta -:--:--\n",
            "   ---------------------------------------- 0.0/14.0 MB ? eta -:--:--\n",
            "   ---------------------------------------- 0.0/14.0 MB ? eta -:--:--\n",
            "    --------------------------------------- 0.3/14.0 MB ? eta -:--:--\n",
            "    --------------------------------------- 0.3/14.0 MB ? eta -:--:--\n",
            "    --------------------------------------- 0.3/14.0 MB ? eta -:--:--\n",
            "    --------------------------------------- 0.3/14.0 MB ? eta -:--:--\n",
            "    --------------------------------------- 0.3/14.0 MB ? eta -:--:--\n",
            "    --------------------------------------- 0.3/14.0 MB ? eta -:--:--\n",
            "   - -------------------------------------- 0.5/14.0 MB 233.0 kB/s eta 0:00:58\n",
            "   - -------------------------------------- 0.5/14.0 MB 233.0 kB/s eta 0:00:58\n",
            "   - -------------------------------------- 0.5/14.0 MB 233.0 kB/s eta 0:00:58\n",
            "   - -------------------------------------- 0.5/14.0 MB 233.0 kB/s eta 0:00:58\n",
            "   - -------------------------------------- 0.5/14.0 MB 233.0 kB/s eta 0:00:58\n",
            "   - -------------------------------------- 0.5/14.0 MB 233.0 kB/s eta 0:00:58\n",
            "   - -------------------------------------- 0.5/14.0 MB 233.0 kB/s eta 0:00:58\n",
            "   -- ------------------------------------- 0.8/14.0 MB 197.3 kB/s eta 0:01:08\n",
            "   -- ------------------------------------- 0.8/14.0 MB 197.3 kB/s eta 0:01:08\n",
            "   -- ------------------------------------- 0.8/14.0 MB 197.3 kB/s eta 0:01:08\n",
            "   -- ------------------------------------- 0.8/14.0 MB 197.3 kB/s eta 0:01:08\n",
            "   -- ------------------------------------- 0.8/14.0 MB 197.3 kB/s eta 0:01:08\n",
            "   -- ------------------------------------- 0.8/14.0 MB 197.3 kB/s eta 0:01:08\n",
            "   -- ------------------------------------- 1.0/14.0 MB 198.9 kB/s eta 0:01:06\n",
            "   -- ------------------------------------- 1.0/14.0 MB 198.9 kB/s eta 0:01:06\n",
            "   -- ------------------------------------- 1.0/14.0 MB 198.9 kB/s eta 0:01:06\n",
            "   -- ------------------------------------- 1.0/14.0 MB 198.9 kB/s eta 0:01:06\n",
            "   -- ------------------------------------- 1.0/14.0 MB 198.9 kB/s eta 0:01:06\n",
            "   --- ------------------------------------ 1.3/14.0 MB 214.4 kB/s eta 0:01:00\n",
            "   --- ------------------------------------ 1.3/14.0 MB 214.4 kB/s eta 0:01:00\n",
            "   --- ------------------------------------ 1.3/14.0 MB 214.4 kB/s eta 0:01:00\n",
            "   --- ------------------------------------ 1.3/14.0 MB 214.4 kB/s eta 0:01:00\n",
            "   --- ------------------------------------ 1.3/14.0 MB 214.4 kB/s eta 0:01:00\n",
            "   --- ------------------------------------ 1.3/14.0 MB 214.4 kB/s eta 0:01:00\n",
            "   ---- ----------------------------------- 1.6/14.0 MB 206.6 kB/s eta 0:01:01\n",
            "   ---- ----------------------------------- 1.6/14.0 MB 206.6 kB/s eta 0:01:01\n",
            "   ---- ----------------------------------- 1.6/14.0 MB 206.6 kB/s eta 0:01:01\n",
            "   ---- ----------------------------------- 1.6/14.0 MB 206.6 kB/s eta 0:01:01\n",
            "   ---- ----------------------------------- 1.6/14.0 MB 206.6 kB/s eta 0:01:01\n",
            "   ----- ---------------------------------- 1.8/14.0 MB 214.2 kB/s eta 0:00:57\n",
            "   ----- ---------------------------------- 1.8/14.0 MB 214.2 kB/s eta 0:00:57\n",
            "   ----- ---------------------------------- 1.8/14.0 MB 214.2 kB/s eta 0:00:57\n",
            "   ----- ---------------------------------- 1.8/14.0 MB 214.2 kB/s eta 0:00:57\n",
            "   ----- ---------------------------------- 2.1/14.0 MB 222.4 kB/s eta 0:00:54\n",
            "   ----- ---------------------------------- 2.1/14.0 MB 222.4 kB/s eta 0:00:54\n",
            "   ----- ---------------------------------- 2.1/14.0 MB 222.4 kB/s eta 0:00:54\n",
            "   ----- ---------------------------------- 2.1/14.0 MB 222.4 kB/s eta 0:00:54\n",
            "   ------ --------------------------------- 2.4/14.0 MB 231.4 kB/s eta 0:00:51\n",
            "   ------ --------------------------------- 2.4/14.0 MB 231.4 kB/s eta 0:00:51\n",
            "   ------ --------------------------------- 2.4/14.0 MB 231.4 kB/s eta 0:00:51\n",
            "   ------- -------------------------------- 2.6/14.0 MB 242.8 kB/s eta 0:00:47\n",
            "   ------- -------------------------------- 2.6/14.0 MB 242.8 kB/s eta 0:00:47\n",
            "   ------- -------------------------------- 2.6/14.0 MB 242.8 kB/s eta 0:00:47\n",
            "   ------- -------------------------------- 2.6/14.0 MB 242.8 kB/s eta 0:00:47\n",
            "   -------- ------------------------------- 2.9/14.0 MB 250.8 kB/s eta 0:00:45\n",
            "   -------- ------------------------------- 2.9/14.0 MB 250.8 kB/s eta 0:00:45\n",
            "   -------- ------------------------------- 2.9/14.0 MB 250.8 kB/s eta 0:00:45\n",
            "   -------- ------------------------------- 3.1/14.0 MB 261.4 kB/s eta 0:00:42\n",
            "   -------- ------------------------------- 3.1/14.0 MB 261.4 kB/s eta 0:00:42\n",
            "   -------- ------------------------------- 3.1/14.0 MB 261.4 kB/s eta 0:00:42\n",
            "   --------- ------------------------------ 3.4/14.0 MB 268.8 kB/s eta 0:00:40\n",
            "   --------- ------------------------------ 3.4/14.0 MB 268.8 kB/s eta 0:00:40\n",
            "   ---------- ----------------------------- 3.7/14.0 MB 279.6 kB/s eta 0:00:38\n",
            "   ---------- ----------------------------- 3.7/14.0 MB 279.6 kB/s eta 0:00:38\n",
            "   ----------- ---------------------------- 3.9/14.0 MB 291.0 kB/s eta 0:00:35\n",
            "   ----------- ---------------------------- 3.9/14.0 MB 291.0 kB/s eta 0:00:35\n",
            "   ----------- ---------------------------- 4.2/14.0 MB 303.6 kB/s eta 0:00:33\n",
            "   ----------- ---------------------------- 4.2/14.0 MB 303.6 kB/s eta 0:00:33\n",
            "   ------------ --------------------------- 4.5/14.0 MB 314.3 kB/s eta 0:00:31\n",
            "   ------------ --------------------------- 4.5/14.0 MB 314.3 kB/s eta 0:00:31\n",
            "   ------------- -------------------------- 4.7/14.0 MB 324.1 kB/s eta 0:00:29\n",
            "   ------------- -------------------------- 4.7/14.0 MB 324.1 kB/s eta 0:00:29\n",
            "   -------------- ------------------------- 5.0/14.0 MB 331.9 kB/s eta 0:00:28\n",
            "   -------------- ------------------------- 5.0/14.0 MB 331.9 kB/s eta 0:00:28\n",
            "   -------------- ------------------------- 5.2/14.0 MB 340.6 kB/s eta 0:00:26\n",
            "   -------------- ------------------------- 5.2/14.0 MB 340.6 kB/s eta 0:00:26\n",
            "   --------------- ------------------------ 5.5/14.0 MB 345.2 kB/s eta 0:00:25\n",
            "   --------------- ------------------------ 5.5/14.0 MB 345.2 kB/s eta 0:00:25\n",
            "   --------------- ------------------------ 5.5/14.0 MB 345.2 kB/s eta 0:00:25\n",
            "   ---------------- ----------------------- 5.8/14.0 MB 349.2 kB/s eta 0:00:24\n",
            "   ---------------- ----------------------- 5.8/14.0 MB 349.2 kB/s eta 0:00:24\n",
            "   ---------------- ----------------------- 5.8/14.0 MB 349.2 kB/s eta 0:00:24\n",
            "   ----------------- ---------------------- 6.0/14.0 MB 352.9 kB/s eta 0:00:23\n",
            "   ----------------- ---------------------- 6.0/14.0 MB 352.9 kB/s eta 0:00:23\n",
            "   ----------------- ---------------------- 6.0/14.0 MB 352.9 kB/s eta 0:00:23\n",
            "   ----------------- ---------------------- 6.0/14.0 MB 352.9 kB/s eta 0:00:23\n",
            "   ----------------- ---------------------- 6.3/14.0 MB 351.4 kB/s eta 0:00:23\n",
            "   ----------------- ---------------------- 6.3/14.0 MB 351.4 kB/s eta 0:00:23\n",
            "   ------------------ --------------------- 6.6/14.0 MB 357.0 kB/s eta 0:00:21\n",
            "   ------------------ --------------------- 6.6/14.0 MB 357.0 kB/s eta 0:00:21\n",
            "   ------------------ --------------------- 6.6/14.0 MB 357.0 kB/s eta 0:00:21\n",
            "   ------------------- -------------------- 6.8/14.0 MB 360.0 kB/s eta 0:00:21\n",
            "   ------------------- -------------------- 6.8/14.0 MB 360.0 kB/s eta 0:00:21\n",
            "   ------------------- -------------------- 6.8/14.0 MB 360.0 kB/s eta 0:00:21\n",
            "   -------------------- ------------------- 7.1/14.0 MB 362.9 kB/s eta 0:00:20\n",
            "   -------------------- ------------------- 7.1/14.0 MB 362.9 kB/s eta 0:00:20\n",
            "   -------------------- ------------------- 7.1/14.0 MB 362.9 kB/s eta 0:00:20\n",
            "   -------------------- ------------------- 7.3/14.0 MB 361.8 kB/s eta 0:00:19\n",
            "   -------------------- ------------------- 7.3/14.0 MB 361.8 kB/s eta 0:00:19\n",
            "   -------------------- ------------------- 7.3/14.0 MB 361.8 kB/s eta 0:00:19\n",
            "   -------------------- ------------------- 7.3/14.0 MB 361.8 kB/s eta 0:00:19\n",
            "   -------------------- ------------------- 7.3/14.0 MB 361.8 kB/s eta 0:00:19\n",
            "   --------------------- ------------------ 7.6/14.0 MB 356.7 kB/s eta 0:00:19\n",
            "   --------------------- ------------------ 7.6/14.0 MB 356.7 kB/s eta 0:00:19\n",
            "   --------------------- ------------------ 7.6/14.0 MB 356.7 kB/s eta 0:00:19\n",
            "   --------------------- ------------------ 7.6/14.0 MB 356.7 kB/s eta 0:00:19\n",
            "   --------------------- ------------------ 7.6/14.0 MB 356.7 kB/s eta 0:00:19\n",
            "   ---------------------- ----------------- 7.9/14.0 MB 350.8 kB/s eta 0:00:18\n",
            "   ---------------------- ----------------- 7.9/14.0 MB 350.8 kB/s eta 0:00:18\n",
            "   ---------------------- ----------------- 7.9/14.0 MB 350.8 kB/s eta 0:00:18\n",
            "   ---------------------- ----------------- 7.9/14.0 MB 350.8 kB/s eta 0:00:18\n",
            "   ---------------------- ----------------- 7.9/14.0 MB 350.8 kB/s eta 0:00:18\n",
            "   ----------------------- ---------------- 8.1/14.0 MB 346.4 kB/s eta 0:00:18\n",
            "   ----------------------- ---------------- 8.1/14.0 MB 346.4 kB/s eta 0:00:18\n",
            "   ----------------------- ---------------- 8.1/14.0 MB 346.4 kB/s eta 0:00:18\n",
            "   ----------------------- ---------------- 8.4/14.0 MB 349.0 kB/s eta 0:00:17\n",
            "   ----------------------- ---------------- 8.4/14.0 MB 349.0 kB/s eta 0:00:17\n",
            "   ----------------------- ---------------- 8.4/14.0 MB 349.0 kB/s eta 0:00:17\n",
            "   ----------------------- ---------------- 8.4/14.0 MB 349.0 kB/s eta 0:00:17\n",
            "   ------------------------ --------------- 8.7/14.0 MB 348.2 kB/s eta 0:00:16\n",
            "   ------------------------ --------------- 8.7/14.0 MB 348.2 kB/s eta 0:00:16\n",
            "   ------------------------ --------------- 8.7/14.0 MB 348.2 kB/s eta 0:00:16\n",
            "   ------------------------ --------------- 8.7/14.0 MB 348.2 kB/s eta 0:00:16\n",
            "   ------------------------- -------------- 8.9/14.0 MB 347.1 kB/s eta 0:00:15\n",
            "   ------------------------- -------------- 8.9/14.0 MB 347.1 kB/s eta 0:00:15\n",
            "   ------------------------- -------------- 8.9/14.0 MB 347.1 kB/s eta 0:00:15\n",
            "   -------------------------- ------------- 9.2/14.0 MB 349.1 kB/s eta 0:00:14\n",
            "   -------------------------- ------------- 9.2/14.0 MB 349.1 kB/s eta 0:00:14\n",
            "   -------------------------- ------------- 9.4/14.0 MB 352.7 kB/s eta 0:00:14\n",
            "   -------------------------- ------------- 9.4/14.0 MB 352.7 kB/s eta 0:00:14\n",
            "   --------------------------- ------------ 9.7/14.0 MB 355.7 kB/s eta 0:00:13\n",
            "   --------------------------- ------------ 9.7/14.0 MB 355.7 kB/s eta 0:00:13\n",
            "   --------------------------- ------------ 9.7/14.0 MB 355.7 kB/s eta 0:00:13\n",
            "   --------------------------- ------------ 9.7/14.0 MB 355.7 kB/s eta 0:00:13\n",
            "   --------------------------- ------------ 9.7/14.0 MB 355.7 kB/s eta 0:00:13\n",
            "   ---------------------------- ----------- 10.0/14.0 MB 353.3 kB/s eta 0:00:12\n",
            "   ---------------------------- ----------- 10.0/14.0 MB 353.3 kB/s eta 0:00:12\n",
            "   ---------------------------- ----------- 10.0/14.0 MB 353.3 kB/s eta 0:00:12\n",
            "   ---------------------------- ----------- 10.0/14.0 MB 353.3 kB/s eta 0:00:12\n",
            "   ----------------------------- ---------- 10.2/14.0 MB 350.9 kB/s eta 0:00:11\n",
            "   ----------------------------- ---------- 10.2/14.0 MB 350.9 kB/s eta 0:00:11\n",
            "   ----------------------------- ---------- 10.2/14.0 MB 350.9 kB/s eta 0:00:11\n",
            "   ----------------------------- ---------- 10.2/14.0 MB 350.9 kB/s eta 0:00:11\n",
            "   ----------------------------- ---------- 10.2/14.0 MB 350.9 kB/s eta 0:00:11\n",
            "   ----------------------------- ---------- 10.5/14.0 MB 349.1 kB/s eta 0:00:11\n",
            "   ----------------------------- ---------- 10.5/14.0 MB 349.1 kB/s eta 0:00:11\n",
            "   ----------------------------- ---------- 10.5/14.0 MB 349.1 kB/s eta 0:00:11\n",
            "   ----------------------------- ---------- 10.5/14.0 MB 349.1 kB/s eta 0:00:11\n",
            "   ------------------------------ --------- 10.7/14.0 MB 351.4 kB/s eta 0:00:10\n",
            "   ------------------------------ --------- 10.7/14.0 MB 351.4 kB/s eta 0:00:10\n",
            "   ------------------------------ --------- 10.7/14.0 MB 351.4 kB/s eta 0:00:10\n",
            "   ------------------------------ --------- 10.7/14.0 MB 351.4 kB/s eta 0:00:10\n",
            "   ------------------------------- -------- 11.0/14.0 MB 351.0 kB/s eta 0:00:09\n",
            "   ------------------------------- -------- 11.0/14.0 MB 351.0 kB/s eta 0:00:09\n",
            "   -------------------------------- ------- 11.3/14.0 MB 362.8 kB/s eta 0:00:08\n",
            "   -------------------------------- ------- 11.3/14.0 MB 362.8 kB/s eta 0:00:08\n",
            "   -------------------------------- ------- 11.5/14.0 MB 366.1 kB/s eta 0:00:07\n",
            "   -------------------------------- ------- 11.5/14.0 MB 366.1 kB/s eta 0:00:07\n",
            "   --------------------------------- ------ 11.8/14.0 MB 370.3 kB/s eta 0:00:07\n",
            "   --------------------------------- ------ 11.8/14.0 MB 370.3 kB/s eta 0:00:07\n",
            "   ---------------------------------- ----- 12.1/14.0 MB 382.1 kB/s eta 0:00:06\n",
            "   ----------------------------------- ---- 12.3/14.0 MB 387.0 kB/s eta 0:00:05\n",
            "   ----------------------------------- ---- 12.3/14.0 MB 387.0 kB/s eta 0:00:05\n",
            "   ----------------------------------- ---- 12.6/14.0 MB 391.8 kB/s eta 0:00:04\n",
            "   ----------------------------------- ---- 12.6/14.0 MB 391.8 kB/s eta 0:00:04\n",
            "   ------------------------------------ --- 12.8/14.0 MB 395.5 kB/s eta 0:00:03\n",
            "   ------------------------------------- -- 13.1/14.0 MB 402.9 kB/s eta 0:00:03\n",
            "   ------------------------------------- -- 13.1/14.0 MB 402.9 kB/s eta 0:00:03\n",
            "   ------------------------------------- -- 13.1/14.0 MB 402.9 kB/s eta 0:00:03\n",
            "   -------------------------------------- - 13.4/14.0 MB 405.3 kB/s eta 0:00:02\n",
            "   -------------------------------------- - 13.6/14.0 MB 421.5 kB/s eta 0:00:01\n",
            "   -------------------------------------- - 13.6/14.0 MB 421.5 kB/s eta 0:00:01\n",
            "   ---------------------------------------  13.9/14.0 MB 426.0 kB/s eta 0:00:01\n",
            "   ---------------------------------------- 14.0/14.0 MB 427.1 kB/s  0:00:37\n",
            "Downloading docutils-0.19-py3-none-any.whl (570 kB)\n",
            "   ---------------------------------------- 0.0/570.5 kB ? eta -:--:--\n",
            "   ---------------------------------------- 0.0/570.5 kB ? eta -:--:--\n",
            "   ------------------ --------------------- 262.1/570.5 kB ? eta -:--:--\n",
            "   ------------------ --------------------- 262.1/570.5 kB ? eta -:--:--\n",
            "   ---------------------------------------- 570.5/570.5 kB 680.6 kB/s  0:00:00\n",
            "Downloading rsa-4.7.2-py3-none-any.whl (34 kB)\n",
            "Downloading s3transfer-0.14.0-py3-none-any.whl (85 kB)\n",
            "Installing collected packages: rsa, docutils, botocore, s3transfer, awscli\n",
            "\n",
            "  Attempting uninstall: rsa\n",
            "\n",
            "    Found existing installation: rsa 4.9.1\n",
            "\n",
            "    Uninstalling rsa-4.9.1:\n",
            "\n",
            "      Successfully uninstalled rsa-4.9.1\n",
            "\n",
            "   -------- ------------------------------- 1/5 [docutils]\n",
            "   -------- ------------------------------- 1/5 [docutils]\n",
            "   -------- ------------------------------- 1/5 [docutils]\n",
            "   -------- ------------------------------- 1/5 [docutils]\n",
            "   -------- ------------------------------- 1/5 [docutils]\n",
            "   -------- ------------------------------- 1/5 [docutils]\n",
            "   -------- ------------------------------- 1/5 [docutils]\n",
            "  Attempting uninstall: botocore\n",
            "   -------- ------------------------------- 1/5 [docutils]\n",
            "    Found existing installation: botocore 1.35.36\n",
            "   -------- ------------------------------- 1/5 [docutils]\n",
            "   ---------------- ----------------------- 2/5 [botocore]\n",
            "   ---------------- ----------------------- 2/5 [botocore]\n",
            "   ---------------- ----------------------- 2/5 [botocore]\n",
            "    Uninstalling botocore-1.35.36:\n",
            "   ---------------- ----------------------- 2/5 [botocore]\n",
            "   ---------------- ----------------------- 2/5 [botocore]\n",
            "      Successfully uninstalled botocore-1.35.36\n",
            "   ---------------- ----------------------- 2/5 [botocore]\n",
            "   ---------------- ----------------------- 2/5 [botocore]\n",
            "   ---------------- ----------------------- 2/5 [botocore]\n",
            "   ---------------- ----------------------- 2/5 [botocore]\n",
            "   ---------------- ----------------------- 2/5 [botocore]\n",
            "   ---------------- ----------------------- 2/5 [botocore]\n",
            "   ---------------- ----------------------- 2/5 [botocore]\n",
            "   ---------------- ----------------------- 2/5 [botocore]\n",
            "   ---------------- ----------------------- 2/5 [botocore]\n",
            "   ---------------- ----------------------- 2/5 [botocore]\n",
            "   ---------------- ----------------------- 2/5 [botocore]\n",
            "   ---------------- ----------------------- 2/5 [botocore]\n",
            "   ---------------- ----------------------- 2/5 [botocore]\n",
            "   ---------------- ----------------------- 2/5 [botocore]\n",
            "   ---------------- ----------------------- 2/5 [botocore]\n",
            "   ---------------- ----------------------- 2/5 [botocore]\n",
            "   ---------------- ----------------------- 2/5 [botocore]\n",
            "   ---------------- ----------------------- 2/5 [botocore]\n",
            "   ---------------- ----------------------- 2/5 [botocore]\n",
            "   ---------------- ----------------------- 2/5 [botocore]\n",
            "   ---------------- ----------------------- 2/5 [botocore]\n",
            "   ---------------- ----------------------- 2/5 [botocore]\n",
            "   ---------------- ----------------------- 2/5 [botocore]\n",
            "   ---------------- ----------------------- 2/5 [botocore]\n",
            "  Attempting uninstall: s3transfer\n",
            "   ---------------- ----------------------- 2/5 [botocore]\n",
            "    Found existing installation: s3transfer 0.10.4\n",
            "   ---------------- ----------------------- 2/5 [botocore]\n",
            "    Uninstalling s3transfer-0.10.4:\n",
            "   ---------------- ----------------------- 2/5 [botocore]\n",
            "      Successfully uninstalled s3transfer-0.10.4\n",
            "   ---------------- ----------------------- 2/5 [botocore]\n",
            "   ------------------------ --------------- 3/5 [s3transfer]\n",
            "   -------------------------------- ------- 4/5 [awscli]\n",
            "   -------------------------------- ------- 4/5 [awscli]\n",
            "   -------------------------------- ------- 4/5 [awscli]\n",
            "   -------------------------------- ------- 4/5 [awscli]\n",
            "   -------------------------------- ------- 4/5 [awscli]\n",
            "   -------------------------------- ------- 4/5 [awscli]\n",
            "   -------------------------------- ------- 4/5 [awscli]\n",
            "   -------------------------------- ------- 4/5 [awscli]\n",
            "   -------------------------------- ------- 4/5 [awscli]\n",
            "   -------------------------------- ------- 4/5 [awscli]\n",
            "   -------------------------------- ------- 4/5 [awscli]\n",
            "   -------------------------------- ------- 4/5 [awscli]\n",
            "   -------------------------------- ------- 4/5 [awscli]\n",
            "   -------------------------------- ------- 4/5 [awscli]\n",
            "   -------------------------------- ------- 4/5 [awscli]\n",
            "   -------------------------------- ------- 4/5 [awscli]\n",
            "   -------------------------------- ------- 4/5 [awscli]\n",
            "   -------------------------------- ------- 4/5 [awscli]\n",
            "   -------------------------------- ------- 4/5 [awscli]\n",
            "   -------------------------------- ------- 4/5 [awscli]\n",
            "   -------------------------------- ------- 4/5 [awscli]\n",
            "   -------------------------------- ------- 4/5 [awscli]\n",
            "   -------------------------------- ------- 4/5 [awscli]\n",
            "   -------------------------------- ------- 4/5 [awscli]\n",
            "   -------------------------------- ------- 4/5 [awscli]\n",
            "   -------------------------------- ------- 4/5 [awscli]\n",
            "   -------------------------------- ------- 4/5 [awscli]\n",
            "   -------------------------------- ------- 4/5 [awscli]\n",
            "   -------------------------------- ------- 4/5 [awscli]\n",
            "   -------------------------------- ------- 4/5 [awscli]\n",
            "   -------------------------------- ------- 4/5 [awscli]\n",
            "   -------------------------------- ------- 4/5 [awscli]\n",
            "   -------------------------------- ------- 4/5 [awscli]\n",
            "   -------------------------------- ------- 4/5 [awscli]\n",
            "   -------------------------------- ------- 4/5 [awscli]\n",
            "   -------------------------------- ------- 4/5 [awscli]\n",
            "   -------------------------------- ------- 4/5 [awscli]\n",
            "   -------------------------------- ------- 4/5 [awscli]\n",
            "   -------------------------------- ------- 4/5 [awscli]\n",
            "   -------------------------------- ------- 4/5 [awscli]\n",
            "   -------------------------------- ------- 4/5 [awscli]\n",
            "   -------------------------------- ------- 4/5 [awscli]\n",
            "   -------------------------------- ------- 4/5 [awscli]\n",
            "   -------------------------------- ------- 4/5 [awscli]\n",
            "   -------------------------------- ------- 4/5 [awscli]\n",
            "   ---------------------------------------- 5/5 [awscli]\n",
            "\n",
            "Successfully installed awscli-1.42.38 botocore-1.40.38 docutils-0.19 rsa-4.7.2 s3transfer-0.14.0\n"
          ]
        },
        {
          "name": "stderr",
          "output_type": "stream",
          "text": [
            "ERROR: pip's dependency resolver does not currently take into account all the packages that are installed. This behaviour is the source of the following dependency conflicts.\n",
            "aiobotocore 2.15.2 requires botocore<1.35.37,>=1.35.16, but you have botocore 1.40.38 which is incompatible.\n",
            "boto3 1.35.36 requires botocore<1.36.0,>=1.35.36, but you have botocore 1.40.38 which is incompatible.\n",
            "boto3 1.35.36 requires s3transfer<0.11.0,>=0.10.0, but you have s3transfer 0.14.0 which is incompatible.\n"
          ]
        }
      ],
      "source": [
        "!pip install awscli"
      ]
    },
    {
      "cell_type": "code",
      "execution_count": null,
      "metadata": {
        "colab": {
          "base_uri": "https://localhost:8080/"
        },
        "id": "eRdwyDq44xlK",
        "outputId": "3bd7c482-be65-4892-b571-4abdbd4d0640"
      },
      "outputs": [
        {
          "name": "stdout",
          "output_type": "stream",
          "text": [
            "^C\n"
          ]
        },
        {
          "name": "stderr",
          "output_type": "stream",
          "text": [
            "File association not found for extension .py\n"
          ]
        },
        {
          "name": "stdout",
          "output_type": "stream",
          "text": [
            "AWS Access Key ID [****************6ZXH]: \n"
          ]
        }
      ],
      "source": [
        "!aws configure"
      ]
    },
    {
      "cell_type": "code",
      "execution_count": 32,
      "metadata": {
        "colab": {
          "base_uri": "https://localhost:8080/",
          "height": 657
        },
        "id": "7CyCPT6IhWET",
        "outputId": "d5ea4aa3-99de-4640-bc76-28633c7b0aec"
      },
      "outputs": [
        {
          "name": "stderr",
          "output_type": "stream",
          "text": [
            "2025/09/25 14:58:33 WARNING mlflow.models.model: Model logged without a signature and input example. Please set `input_example` parameter when logging the model to auto infer the model signature.\n",
            "2025/09/25 14:59:16 INFO mlflow.tracking._tracking_service.client: 🏃 View run RandomForest_Baseline_TrainTestSplit at: http://ec2-54-159-96-0.compute-1.amazonaws.com:5000/#/experiments/368303739779906751/runs/aace497d811b479a9f24e99618fcf43c.\n",
            "2025/09/25 14:59:16 INFO mlflow.tracking._tracking_service.client: 🧪 View experiment at: http://ec2-54-159-96-0.compute-1.amazonaws.com:5000/#/experiments/368303739779906751.\n"
          ]
        },
        {
          "name": "stdout",
          "output_type": "stream",
          "text": [
            "Accuracy: 0.6479\n"
          ]
        }
      ],
      "source": [
        "# Step 1: Split the data into training and testing sets (80% train, 20% test)\n",
        "X_train, X_test, y_train, y_test = train_test_split(\n",
        "    X, y, test_size=0.2, random_state=42, stratify=y\n",
        ")\n",
        "\n",
        "# Step 2: Define and train a Random Forest baseline model using a simple train-test split\n",
        "with mlflow.start_run() as run:\n",
        "    # Tags / description\n",
        "    mlflow.set_tag(\"mlflow.runName\", \"RandomForest_Baseline_TrainTestSplit\")\n",
        "    mlflow.set_tag(\"experiment_type\", \"baseline\")\n",
        "    mlflow.set_tag(\"model_type\", \"RandomForestClassifier\")\n",
        "    mlflow.set_tag(\"description\", \"Baseline RandomForest model for sentiment analysis using Bag of Words (BoW) with a simple train-test split\")\n",
        "\n",
        "    # Vectorizer params\n",
        "    mlflow.log_param(\"vectorizer_type\", \"CountVectorizer\")\n",
        "    mlflow.log_param(\"vectorizer_max_features\", getattr(vectorizer, \"max_features\", None))\n",
        "\n",
        "    # RF params\n",
        "    n_estimators = 200\n",
        "    max_depth = 15\n",
        "    mlflow.log_param(\"n_estimators\", n_estimators)\n",
        "    mlflow.log_param(\"max_depth\", max_depth)\n",
        "\n",
        "    # Train\n",
        "    model = RandomForestClassifier(n_estimators=n_estimators, max_depth=max_depth, random_state=42)\n",
        "    model.fit(X_train, y_train)\n",
        "\n",
        "    # Predict\n",
        "    y_pred = model.predict(X_test)\n",
        "\n",
        "    # Metrics\n",
        "    accuracy = accuracy_score(y_test, y_pred)\n",
        "    mlflow.log_metric(\"accuracy\", accuracy)\n",
        "\n",
        "    classification_rep = classification_report(y_test, y_pred, output_dict=True)\n",
        "    for label, metrics in classification_rep.items():\n",
        "        if isinstance(metrics, dict):\n",
        "            for metric, value in metrics.items():\n",
        "                # MLflow metrics must be numeric; skip support counts that might be ints (ok) or NaN\n",
        "                if isinstance(value, (int, float)) and value == value:  # not NaN\n",
        "                    mlflow.log_metric(f\"{label}_{metric}\", float(value))\n",
        "\n",
        "    # Confusion matrix -> log figure directly (no filesystem path hassles)\n",
        "    conf_matrix = confusion_matrix(y_test, y_pred)\n",
        "    plt.figure(figsize=(8, 6))\n",
        "    sns.heatmap(conf_matrix, annot=True, fmt=\"d\", cmap=\"Blues\")\n",
        "    plt.xlabel(\"Predicted\")\n",
        "    plt.ylabel(\"Actual\")\n",
        "    plt.title(\"Confusion Matrix\")\n",
        "    plt.tight_layout()\n",
        "    mlflow.log_figure(plt.gcf(), \"confusion_matrix.png\")\n",
        "    plt.close()\n",
        "\n",
        "    # Log the model\n",
        "    mlflow.sklearn.log_model(model, artifact_path=\"random_forest_model\")\n",
        "\n",
        "    # Optionally log the dataset content as a text artifact (no local file needed)\n",
        "    mlflow.log_text(df.to_csv(index=False), \"dataset.csv\")\n",
        "\n",
        "# Display final accuracy\n",
        "print(f\"Accuracy: {accuracy:.4f}\")\n"
      ]
    },
    {
      "cell_type": "code",
      "execution_count": 33,
      "metadata": {
        "colab": {
          "base_uri": "https://localhost:8080/"
        },
        "id": "4dEHQmkMcbsF",
        "outputId": "6b066f0e-3bb1-423c-ea2c-c87239f203a5"
      },
      "outputs": [
        {
          "name": "stdout",
          "output_type": "stream",
          "text": [
            "              precision    recall  f1-score   support\n",
            "\n",
            "          -1       1.00      0.01      0.02      1650\n",
            "           0       0.68      0.81      0.74      2555\n",
            "           1       0.62      0.85      0.72      3154\n",
            "\n",
            "    accuracy                           0.65      7359\n",
            "   macro avg       0.77      0.56      0.49      7359\n",
            "weighted avg       0.73      0.65      0.57      7359\n",
            "\n"
          ]
        }
      ],
      "source": [
        "print(classification_report(y_test, y_pred))"
      ]
    },
    {
      "cell_type": "code",
      "execution_count": 34,
      "metadata": {
        "id": "3FJARjXcckS6"
      },
      "outputs": [],
      "source": [
        "df.to_csv('reddit_preprocessing.csv', index=False)"
      ]
    },
    {
      "cell_type": "code",
      "execution_count": 35,
      "metadata": {
        "colab": {
          "base_uri": "https://localhost:8080/",
          "height": 206
        },
        "id": "SnJl6IRhi38R",
        "outputId": "a44f24fa-f1c6-4330-8885-beda62cfe5b8"
      },
      "outputs": [
        {
          "data": {
            "text/html": [
              "<div>\n",
              "<style scoped>\n",
              "    .dataframe tbody tr th:only-of-type {\n",
              "        vertical-align: middle;\n",
              "    }\n",
              "\n",
              "    .dataframe tbody tr th {\n",
              "        vertical-align: top;\n",
              "    }\n",
              "\n",
              "    .dataframe thead th {\n",
              "        text-align: right;\n",
              "    }\n",
              "</style>\n",
              "<table border=\"1\" class=\"dataframe\">\n",
              "  <thead>\n",
              "    <tr style=\"text-align: right;\">\n",
              "      <th></th>\n",
              "      <th>clean_comment</th>\n",
              "      <th>category</th>\n",
              "    </tr>\n",
              "  </thead>\n",
              "  <tbody>\n",
              "    <tr>\n",
              "      <th>0</th>\n",
              "      <td>family mormon never tried explain still stare ...</td>\n",
              "      <td>1</td>\n",
              "    </tr>\n",
              "    <tr>\n",
              "      <th>1</th>\n",
              "      <td>buddhism much lot compatible christianity espe...</td>\n",
              "      <td>1</td>\n",
              "    </tr>\n",
              "    <tr>\n",
              "      <th>2</th>\n",
              "      <td>seriously say thing first get complex explain ...</td>\n",
              "      <td>-1</td>\n",
              "    </tr>\n",
              "    <tr>\n",
              "      <th>3</th>\n",
              "      <td>learned want teach different focus goal not wr...</td>\n",
              "      <td>0</td>\n",
              "    </tr>\n",
              "    <tr>\n",
              "      <th>4</th>\n",
              "      <td>benefit may want read living buddha living chr...</td>\n",
              "      <td>1</td>\n",
              "    </tr>\n",
              "  </tbody>\n",
              "</table>\n",
              "</div>"
            ],
            "text/plain": [
              "                                       clean_comment  category\n",
              "0  family mormon never tried explain still stare ...         1\n",
              "1  buddhism much lot compatible christianity espe...         1\n",
              "2  seriously say thing first get complex explain ...        -1\n",
              "3  learned want teach different focus goal not wr...         0\n",
              "4  benefit may want read living buddha living chr...         1"
            ]
          },
          "execution_count": 35,
          "metadata": {},
          "output_type": "execute_result"
        }
      ],
      "source": [
        "pd.read_csv('reddit_preprocessing.csv').head()"
      ]
    }
  ],
  "metadata": {
    "colab": {
      "provenance": []
    },
    "kernelspec": {
      "display_name": "youtube",
      "language": "python",
      "name": "python3"
    },
    "language_info": {
      "codemirror_mode": {
        "name": "ipython",
        "version": 3
      },
      "file_extension": ".py",
      "mimetype": "text/x-python",
      "name": "python",
      "nbconvert_exporter": "python",
      "pygments_lexer": "ipython3",
      "version": "3.11.13"
    }
  },
  "nbformat": 4,
  "nbformat_minor": 0
}
