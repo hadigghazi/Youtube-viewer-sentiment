{
  "cells": [
    {
      "cell_type": "markdown",
      "metadata": {
        "id": "Yc1yy6ROBzkp"
      },
      "source": [
        "# How many max features?"
      ]
    },
    {
      "cell_type": "code",
      "execution_count": 1,
      "metadata": {
        "colab": {
          "base_uri": "https://localhost:8080/"
        },
        "id": "zCaTy90rkk3Q",
        "outputId": "f8c31242-c0a4-475f-80b8-dde0d1cdc5fd"
      },
      "outputs": [
        {
          "name": "stdout",
          "output_type": "stream",
          "text": [
            "Requirement already satisfied: mlflow in c:\\users\\user\\anaconda3\\envs\\youtube\\lib\\site-packages (2.17.0)\n",
            "Requirement already satisfied: boto3 in c:\\users\\user\\anaconda3\\envs\\youtube\\lib\\site-packages (1.35.36)\n",
            "Requirement already satisfied: awscli in c:\\users\\user\\anaconda3\\envs\\youtube\\lib\\site-packages (1.36.40)\n",
            "Requirement already satisfied: mlflow-skinny==2.17.0 in c:\\users\\user\\anaconda3\\envs\\youtube\\lib\\site-packages (from mlflow) (2.17.0)\n",
            "Requirement already satisfied: Flask<4 in c:\\users\\user\\anaconda3\\envs\\youtube\\lib\\site-packages (from mlflow) (3.0.3)\n",
            "Requirement already satisfied: alembic!=1.10.0,<2 in c:\\users\\user\\anaconda3\\envs\\youtube\\lib\\site-packages (from mlflow) (1.16.5)\n",
            "Requirement already satisfied: docker<8,>=4.0.0 in c:\\users\\user\\anaconda3\\envs\\youtube\\lib\\site-packages (from mlflow) (7.1.0)\n",
            "Requirement already satisfied: graphene<4 in c:\\users\\user\\anaconda3\\envs\\youtube\\lib\\site-packages (from mlflow) (3.4.3)\n",
            "Requirement already satisfied: markdown<4,>=3.3 in c:\\users\\user\\anaconda3\\envs\\youtube\\lib\\site-packages (from mlflow) (3.9)\n",
            "Requirement already satisfied: matplotlib<4 in c:\\users\\user\\anaconda3\\envs\\youtube\\lib\\site-packages (from mlflow) (3.9.2)\n",
            "Requirement already satisfied: numpy<3 in c:\\users\\user\\anaconda3\\envs\\youtube\\lib\\site-packages (from mlflow) (2.1.2)\n",
            "Requirement already satisfied: pandas<3 in c:\\users\\user\\anaconda3\\envs\\youtube\\lib\\site-packages (from mlflow) (2.2.3)\n",
            "Requirement already satisfied: pyarrow<18,>=4.0.0 in c:\\users\\user\\anaconda3\\envs\\youtube\\lib\\site-packages (from mlflow) (17.0.0)\n",
            "Requirement already satisfied: scikit-learn<2 in c:\\users\\user\\anaconda3\\envs\\youtube\\lib\\site-packages (from mlflow) (1.7.2)\n",
            "Requirement already satisfied: scipy<2 in c:\\users\\user\\anaconda3\\envs\\youtube\\lib\\site-packages (from mlflow) (1.16.2)\n",
            "Requirement already satisfied: sqlalchemy<3,>=1.4.0 in c:\\users\\user\\anaconda3\\envs\\youtube\\lib\\site-packages (from mlflow) (2.0.43)\n",
            "Requirement already satisfied: Jinja2<4,>=3.0 in c:\\users\\user\\anaconda3\\envs\\youtube\\lib\\site-packages (from mlflow) (3.1.6)\n",
            "Requirement already satisfied: waitress<4 in c:\\users\\user\\anaconda3\\envs\\youtube\\lib\\site-packages (from mlflow) (3.0.2)\n",
            "Requirement already satisfied: cachetools<6,>=5.0.0 in c:\\users\\user\\anaconda3\\envs\\youtube\\lib\\site-packages (from mlflow-skinny==2.17.0->mlflow) (5.5.2)\n",
            "Requirement already satisfied: click<9,>=7.0 in c:\\users\\user\\anaconda3\\envs\\youtube\\lib\\site-packages (from mlflow-skinny==2.17.0->mlflow) (8.3.0)\n",
            "Requirement already satisfied: cloudpickle<4 in c:\\users\\user\\anaconda3\\envs\\youtube\\lib\\site-packages (from mlflow-skinny==2.17.0->mlflow) (3.1.1)\n",
            "Requirement already satisfied: databricks-sdk<1,>=0.20.0 in c:\\users\\user\\anaconda3\\envs\\youtube\\lib\\site-packages (from mlflow-skinny==2.17.0->mlflow) (0.66.0)\n",
            "Requirement already satisfied: gitpython<4,>=3.1.9 in c:\\users\\user\\anaconda3\\envs\\youtube\\lib\\site-packages (from mlflow-skinny==2.17.0->mlflow) (3.1.45)\n",
            "Requirement already satisfied: importlib-metadata!=4.7.0,<9,>=3.7.0 in c:\\users\\user\\anaconda3\\envs\\youtube\\lib\\site-packages (from mlflow-skinny==2.17.0->mlflow) (8.7.0)\n",
            "Requirement already satisfied: opentelemetry-api<3,>=1.9.0 in c:\\users\\user\\anaconda3\\envs\\youtube\\lib\\site-packages (from mlflow-skinny==2.17.0->mlflow) (1.37.0)\n",
            "Requirement already satisfied: opentelemetry-sdk<3,>=1.9.0 in c:\\users\\user\\anaconda3\\envs\\youtube\\lib\\site-packages (from mlflow-skinny==2.17.0->mlflow) (1.37.0)\n",
            "Requirement already satisfied: packaging<25 in c:\\users\\user\\anaconda3\\envs\\youtube\\lib\\site-packages (from mlflow-skinny==2.17.0->mlflow) (24.2)\n",
            "Requirement already satisfied: protobuf<6,>=3.12.0 in c:\\users\\user\\anaconda3\\envs\\youtube\\lib\\site-packages (from mlflow-skinny==2.17.0->mlflow) (5.29.5)\n",
            "Requirement already satisfied: pyyaml<7,>=5.1 in c:\\users\\user\\anaconda3\\envs\\youtube\\lib\\site-packages (from mlflow-skinny==2.17.0->mlflow) (6.0.2)\n",
            "Requirement already satisfied: requests<3,>=2.17.3 in c:\\users\\user\\anaconda3\\envs\\youtube\\lib\\site-packages (from mlflow-skinny==2.17.0->mlflow) (2.32.5)\n",
            "Requirement already satisfied: sqlparse<1,>=0.4.0 in c:\\users\\user\\anaconda3\\envs\\youtube\\lib\\site-packages (from mlflow-skinny==2.17.0->mlflow) (0.5.3)\n",
            "Requirement already satisfied: Mako in c:\\users\\user\\anaconda3\\envs\\youtube\\lib\\site-packages (from alembic!=1.10.0,<2->mlflow) (1.3.10)\n",
            "Requirement already satisfied: typing-extensions>=4.12 in c:\\users\\user\\anaconda3\\envs\\youtube\\lib\\site-packages (from alembic!=1.10.0,<2->mlflow) (4.15.0)\n",
            "Requirement already satisfied: colorama in c:\\users\\user\\anaconda3\\envs\\youtube\\lib\\site-packages (from click<9,>=7.0->mlflow-skinny==2.17.0->mlflow) (0.4.6)\n",
            "Requirement already satisfied: google-auth~=2.0 in c:\\users\\user\\anaconda3\\envs\\youtube\\lib\\site-packages (from databricks-sdk<1,>=0.20.0->mlflow-skinny==2.17.0->mlflow) (2.40.3)\n",
            "Requirement already satisfied: pywin32>=304 in c:\\users\\user\\anaconda3\\envs\\youtube\\lib\\site-packages (from docker<8,>=4.0.0->mlflow) (311)\n",
            "Requirement already satisfied: urllib3>=1.26.0 in c:\\users\\user\\anaconda3\\envs\\youtube\\lib\\site-packages (from docker<8,>=4.0.0->mlflow) (2.5.0)\n",
            "Requirement already satisfied: Werkzeug>=3.0.0 in c:\\users\\user\\anaconda3\\envs\\youtube\\lib\\site-packages (from Flask<4->mlflow) (3.1.3)\n",
            "Requirement already satisfied: itsdangerous>=2.1.2 in c:\\users\\user\\anaconda3\\envs\\youtube\\lib\\site-packages (from Flask<4->mlflow) (2.2.0)\n",
            "Requirement already satisfied: blinker>=1.6.2 in c:\\users\\user\\anaconda3\\envs\\youtube\\lib\\site-packages (from Flask<4->mlflow) (1.9.0)\n",
            "Requirement already satisfied: gitdb<5,>=4.0.1 in c:\\users\\user\\anaconda3\\envs\\youtube\\lib\\site-packages (from gitpython<4,>=3.1.9->mlflow-skinny==2.17.0->mlflow) (4.0.12)\n",
            "Requirement already satisfied: smmap<6,>=3.0.1 in c:\\users\\user\\anaconda3\\envs\\youtube\\lib\\site-packages (from gitdb<5,>=4.0.1->gitpython<4,>=3.1.9->mlflow-skinny==2.17.0->mlflow) (5.0.2)\n",
            "Requirement already satisfied: pyasn1-modules>=0.2.1 in c:\\users\\user\\anaconda3\\envs\\youtube\\lib\\site-packages (from google-auth~=2.0->databricks-sdk<1,>=0.20.0->mlflow-skinny==2.17.0->mlflow) (0.4.2)\n",
            "Requirement already satisfied: rsa<5,>=3.1.4 in c:\\users\\user\\anaconda3\\envs\\youtube\\lib\\site-packages (from google-auth~=2.0->databricks-sdk<1,>=0.20.0->mlflow-skinny==2.17.0->mlflow) (4.7.2)\n",
            "Requirement already satisfied: graphql-core<3.3,>=3.1 in c:\\users\\user\\anaconda3\\envs\\youtube\\lib\\site-packages (from graphene<4->mlflow) (3.2.6)\n",
            "Requirement already satisfied: graphql-relay<3.3,>=3.1 in c:\\users\\user\\anaconda3\\envs\\youtube\\lib\\site-packages (from graphene<4->mlflow) (3.2.0)\n",
            "Requirement already satisfied: python-dateutil<3,>=2.7.0 in c:\\users\\user\\anaconda3\\envs\\youtube\\lib\\site-packages (from graphene<4->mlflow) (2.9.0.post0)\n",
            "Requirement already satisfied: zipp>=3.20 in c:\\users\\user\\anaconda3\\envs\\youtube\\lib\\site-packages (from importlib-metadata!=4.7.0,<9,>=3.7.0->mlflow-skinny==2.17.0->mlflow) (3.23.0)\n",
            "Requirement already satisfied: MarkupSafe>=2.0 in c:\\users\\user\\anaconda3\\envs\\youtube\\lib\\site-packages (from Jinja2<4,>=3.0->mlflow) (3.0.2)\n",
            "Requirement already satisfied: contourpy>=1.0.1 in c:\\users\\user\\anaconda3\\envs\\youtube\\lib\\site-packages (from matplotlib<4->mlflow) (1.3.3)\n",
            "Requirement already satisfied: cycler>=0.10 in c:\\users\\user\\anaconda3\\envs\\youtube\\lib\\site-packages (from matplotlib<4->mlflow) (0.12.1)\n",
            "Requirement already satisfied: fonttools>=4.22.0 in c:\\users\\user\\anaconda3\\envs\\youtube\\lib\\site-packages (from matplotlib<4->mlflow) (4.60.0)\n",
            "Requirement already satisfied: kiwisolver>=1.3.1 in c:\\users\\user\\anaconda3\\envs\\youtube\\lib\\site-packages (from matplotlib<4->mlflow) (1.4.9)\n",
            "Requirement already satisfied: pillow>=8 in c:\\users\\user\\anaconda3\\envs\\youtube\\lib\\site-packages (from matplotlib<4->mlflow) (11.3.0)\n",
            "Requirement already satisfied: pyparsing>=2.3.1 in c:\\users\\user\\anaconda3\\envs\\youtube\\lib\\site-packages (from matplotlib<4->mlflow) (3.2.5)\n",
            "Requirement already satisfied: opentelemetry-semantic-conventions==0.58b0 in c:\\users\\user\\anaconda3\\envs\\youtube\\lib\\site-packages (from opentelemetry-sdk<3,>=1.9.0->mlflow-skinny==2.17.0->mlflow) (0.58b0)\n",
            "Requirement already satisfied: pytz>=2020.1 in c:\\users\\user\\anaconda3\\envs\\youtube\\lib\\site-packages (from pandas<3->mlflow) (2025.2)\n",
            "Requirement already satisfied: tzdata>=2022.7 in c:\\users\\user\\anaconda3\\envs\\youtube\\lib\\site-packages (from pandas<3->mlflow) (2025.2)\n",
            "Requirement already satisfied: six>=1.5 in c:\\users\\user\\anaconda3\\envs\\youtube\\lib\\site-packages (from python-dateutil<3,>=2.7.0->graphene<4->mlflow) (1.17.0)\n",
            "Requirement already satisfied: charset_normalizer<4,>=2 in c:\\users\\user\\anaconda3\\envs\\youtube\\lib\\site-packages (from requests<3,>=2.17.3->mlflow-skinny==2.17.0->mlflow) (3.4.3)\n",
            "Requirement already satisfied: idna<4,>=2.5 in c:\\users\\user\\anaconda3\\envs\\youtube\\lib\\site-packages (from requests<3,>=2.17.3->mlflow-skinny==2.17.0->mlflow) (3.10)\n",
            "Requirement already satisfied: certifi>=2017.4.17 in c:\\users\\user\\anaconda3\\envs\\youtube\\lib\\site-packages (from requests<3,>=2.17.3->mlflow-skinny==2.17.0->mlflow) (2025.8.3)\n",
            "Requirement already satisfied: pyasn1>=0.1.3 in c:\\users\\user\\anaconda3\\envs\\youtube\\lib\\site-packages (from rsa<5,>=3.1.4->google-auth~=2.0->databricks-sdk<1,>=0.20.0->mlflow-skinny==2.17.0->mlflow) (0.6.1)\n",
            "Requirement already satisfied: joblib>=1.2.0 in c:\\users\\user\\anaconda3\\envs\\youtube\\lib\\site-packages (from scikit-learn<2->mlflow) (1.4.2)\n",
            "Requirement already satisfied: threadpoolctl>=3.1.0 in c:\\users\\user\\anaconda3\\envs\\youtube\\lib\\site-packages (from scikit-learn<2->mlflow) (3.6.0)\n",
            "Requirement already satisfied: greenlet>=1 in c:\\users\\user\\anaconda3\\envs\\youtube\\lib\\site-packages (from sqlalchemy<3,>=1.4.0->mlflow) (3.2.4)\n",
            "Requirement already satisfied: botocore<1.36.0,>=1.35.36 in c:\\users\\user\\anaconda3\\envs\\youtube\\lib\\site-packages (from boto3) (1.35.99)\n",
            "Requirement already satisfied: jmespath<2.0.0,>=0.7.1 in c:\\users\\user\\anaconda3\\envs\\youtube\\lib\\site-packages (from boto3) (1.0.1)\n",
            "Requirement already satisfied: s3transfer<0.11.0,>=0.10.0 in c:\\users\\user\\anaconda3\\envs\\youtube\\lib\\site-packages (from boto3) (0.10.4)\n",
            "Requirement already satisfied: docutils<0.17,>=0.10 in c:\\users\\user\\anaconda3\\envs\\youtube\\lib\\site-packages (from awscli) (0.16)\n"
          ]
        }
      ],
      "source": [
        "!pip install mlflow boto3 awscli"
      ]
    },
    {
      "cell_type": "code",
      "execution_count": null,
      "metadata": {
        "colab": {
          "base_uri": "https://localhost:8080/"
        },
        "id": "JgNd8b8PlxBW",
        "outputId": "fbdb81dd-d1b3-47d0-fa62-5c976565d019"
      },
      "outputs": [
        {
          "name": "stdout",
          "output_type": "stream",
          "text": [
            "^C\n"
          ]
        },
        {
          "name": "stderr",
          "output_type": "stream",
          "text": [
            "File association not found for extension .py\n"
          ]
        },
        {
          "name": "stdout",
          "output_type": "stream",
          "text": [
            "AWS Access Key ID [****************25HZ]: \n"
          ]
        }
      ],
      "source": [
        "!aws configure"
      ]
    },
    {
      "cell_type": "code",
      "execution_count": 3,
      "metadata": {
        "id": "PbtsROvKl_V2"
      },
      "outputs": [],
      "source": [
        "import mlflow\n",
        "# Step 2: Set up the MLflow tracking server\n",
        "mlflow.set_tracking_uri(\"http://ec2-54-159-96-0.compute-1.amazonaws.com:5000/\")"
      ]
    },
    {
      "cell_type": "code",
      "execution_count": 4,
      "metadata": {
        "colab": {
          "base_uri": "https://localhost:8080/"
        },
        "id": "ORtN_HMHmJC-",
        "outputId": "b30d499d-e7af-4ade-af80-b5b976288472"
      },
      "outputs": [
        {
          "name": "stderr",
          "output_type": "stream",
          "text": [
            "2025/09/25 15:45:23 INFO mlflow.tracking.fluent: Experiment with name 'Exp 3 - TfIdf Trigram max_features' does not exist. Creating a new experiment.\n"
          ]
        },
        {
          "data": {
            "text/plain": [
              "<Experiment: artifact_location='s3://mlflow-bucket-102/733156851355891025', creation_time=1758804324375, experiment_id='733156851355891025', last_update_time=1758804324375, lifecycle_stage='active', name='Exp 3 - TfIdf Trigram max_features', tags={}>"
            ]
          },
          "execution_count": 4,
          "metadata": {},
          "output_type": "execute_result"
        }
      ],
      "source": [
        "# Set or create an experiment\n",
        "mlflow.set_experiment(\"Exp 3 - TfIdf Trigram max_features\")"
      ]
    },
    {
      "cell_type": "code",
      "execution_count": 5,
      "metadata": {
        "id": "zMUpXMeSmQiH"
      },
      "outputs": [],
      "source": [
        "from sklearn.feature_extraction.text import TfidfVectorizer\n",
        "from sklearn.ensemble import RandomForestClassifier\n",
        "from sklearn.model_selection import train_test_split\n",
        "from sklearn.metrics import accuracy_score, classification_report, confusion_matrix\n",
        "import mlflow\n",
        "import mlflow.sklearn\n",
        "import matplotlib.pyplot as plt\n",
        "import seaborn as sns\n",
        "import pandas as pd\n",
        "import os"
      ]
    },
    {
      "cell_type": "code",
      "execution_count": 6,
      "metadata": {
        "colab": {
          "base_uri": "https://localhost:8080/"
        },
        "id": "iA8IXLHhmT_r",
        "outputId": "479b95f7-c446-48f2-d3b9-20c96734a589"
      },
      "outputs": [
        {
          "data": {
            "text/plain": [
              "(36662, 2)"
            ]
          },
          "execution_count": 6,
          "metadata": {},
          "output_type": "execute_result"
        }
      ],
      "source": [
        "df = pd.read_csv('./reddit_preprocessing.csv').dropna(subset=['clean_comment'])\n",
        "df.shape"
      ]
    },
    {
      "cell_type": "code",
      "execution_count": 7,
      "metadata": {
        "colab": {
          "base_uri": "https://localhost:8080/"
        },
        "id": "99A50tSPmXde",
        "outputId": "0e967f6f-a835-48bb-a950-db4ef0957931"
      },
      "outputs": [
        {
          "name": "stderr",
          "output_type": "stream",
          "text": [
            "2025/09/25 15:46:30 WARNING mlflow.models.model: Model logged without a signature and input example. Please set `input_example` parameter when logging the model to auto infer the model signature.\n",
            "2025/09/25 15:47:15 INFO mlflow.tracking._tracking_service.client: 🏃 View run TFIDF_Trigrams_max_features_1000 at: http://ec2-54-159-96-0.compute-1.amazonaws.com:5000/#/experiments/733156851355891025/runs/523ddde0af7c499aaeec96781c06c225.\n",
            "2025/09/25 15:47:15 INFO mlflow.tracking._tracking_service.client: 🧪 View experiment at: http://ec2-54-159-96-0.compute-1.amazonaws.com:5000/#/experiments/733156851355891025.\n",
            "2025/09/25 15:47:43 WARNING mlflow.models.model: Model logged without a signature and input example. Please set `input_example` parameter when logging the model to auto infer the model signature.\n",
            "2025/09/25 15:48:24 INFO mlflow.tracking._tracking_service.client: 🏃 View run TFIDF_Trigrams_max_features_2000 at: http://ec2-54-159-96-0.compute-1.amazonaws.com:5000/#/experiments/733156851355891025/runs/23a511f576194574893242898bfd5d28.\n",
            "2025/09/25 15:48:24 INFO mlflow.tracking._tracking_service.client: 🧪 View experiment at: http://ec2-54-159-96-0.compute-1.amazonaws.com:5000/#/experiments/733156851355891025.\n",
            "2025/09/25 15:48:53 WARNING mlflow.models.model: Model logged without a signature and input example. Please set `input_example` parameter when logging the model to auto infer the model signature.\n",
            "2025/09/25 15:49:48 INFO mlflow.tracking._tracking_service.client: 🏃 View run TFIDF_Trigrams_max_features_3000 at: http://ec2-54-159-96-0.compute-1.amazonaws.com:5000/#/experiments/733156851355891025/runs/49266106272140808a2f764781894b4e.\n",
            "2025/09/25 15:49:48 INFO mlflow.tracking._tracking_service.client: 🧪 View experiment at: http://ec2-54-159-96-0.compute-1.amazonaws.com:5000/#/experiments/733156851355891025.\n",
            "2025/09/25 15:50:20 WARNING mlflow.models.model: Model logged without a signature and input example. Please set `input_example` parameter when logging the model to auto infer the model signature.\n",
            "2025/09/25 15:51:32 INFO mlflow.tracking._tracking_service.client: 🏃 View run TFIDF_Trigrams_max_features_4000 at: http://ec2-54-159-96-0.compute-1.amazonaws.com:5000/#/experiments/733156851355891025/runs/01197dc6704f46999b30c667f43f898e.\n",
            "2025/09/25 15:51:32 INFO mlflow.tracking._tracking_service.client: 🧪 View experiment at: http://ec2-54-159-96-0.compute-1.amazonaws.com:5000/#/experiments/733156851355891025.\n",
            "2025/09/25 15:52:09 WARNING mlflow.models.model: Model logged without a signature and input example. Please set `input_example` parameter when logging the model to auto infer the model signature.\n",
            "2025/09/25 15:53:23 INFO mlflow.tracking._tracking_service.client: 🏃 View run TFIDF_Trigrams_max_features_5000 at: http://ec2-54-159-96-0.compute-1.amazonaws.com:5000/#/experiments/733156851355891025/runs/806491605fd843b7bd746b8dae2ab3df.\n",
            "2025/09/25 15:53:23 INFO mlflow.tracking._tracking_service.client: 🧪 View experiment at: http://ec2-54-159-96-0.compute-1.amazonaws.com:5000/#/experiments/733156851355891025.\n",
            "2025/09/25 15:54:01 WARNING mlflow.models.model: Model logged without a signature and input example. Please set `input_example` parameter when logging the model to auto infer the model signature.\n",
            "2025/09/25 15:54:33 INFO mlflow.tracking._tracking_service.client: 🏃 View run TFIDF_Trigrams_max_features_6000 at: http://ec2-54-159-96-0.compute-1.amazonaws.com:5000/#/experiments/733156851355891025/runs/08a4a928716a4d04b811fdf22f496471.\n",
            "2025/09/25 15:54:33 INFO mlflow.tracking._tracking_service.client: 🧪 View experiment at: http://ec2-54-159-96-0.compute-1.amazonaws.com:5000/#/experiments/733156851355891025.\n",
            "2025/09/25 15:55:03 WARNING mlflow.models.model: Model logged without a signature and input example. Please set `input_example` parameter when logging the model to auto infer the model signature.\n",
            "2025/09/25 15:55:41 INFO mlflow.tracking._tracking_service.client: 🏃 View run TFIDF_Trigrams_max_features_7000 at: http://ec2-54-159-96-0.compute-1.amazonaws.com:5000/#/experiments/733156851355891025/runs/222f27019fa94e009e57808940ccd7bd.\n",
            "2025/09/25 15:55:41 INFO mlflow.tracking._tracking_service.client: 🧪 View experiment at: http://ec2-54-159-96-0.compute-1.amazonaws.com:5000/#/experiments/733156851355891025.\n",
            "2025/09/25 15:56:20 WARNING mlflow.models.model: Model logged without a signature and input example. Please set `input_example` parameter when logging the model to auto infer the model signature.\n",
            "2025/09/25 15:57:12 INFO mlflow.tracking._tracking_service.client: 🏃 View run TFIDF_Trigrams_max_features_8000 at: http://ec2-54-159-96-0.compute-1.amazonaws.com:5000/#/experiments/733156851355891025/runs/33f48f84784e49f294e5c58e966ab405.\n",
            "2025/09/25 15:57:12 INFO mlflow.tracking._tracking_service.client: 🧪 View experiment at: http://ec2-54-159-96-0.compute-1.amazonaws.com:5000/#/experiments/733156851355891025.\n",
            "2025/09/25 15:58:03 WARNING mlflow.models.model: Model logged without a signature and input example. Please set `input_example` parameter when logging the model to auto infer the model signature.\n",
            "2025/09/25 15:59:11 INFO mlflow.tracking._tracking_service.client: 🏃 View run TFIDF_Trigrams_max_features_9000 at: http://ec2-54-159-96-0.compute-1.amazonaws.com:5000/#/experiments/733156851355891025/runs/47e272e977184a9da81f5e61235dce80.\n",
            "2025/09/25 15:59:11 INFO mlflow.tracking._tracking_service.client: 🧪 View experiment at: http://ec2-54-159-96-0.compute-1.amazonaws.com:5000/#/experiments/733156851355891025.\n",
            "2025/09/25 15:59:42 WARNING mlflow.models.model: Model logged without a signature and input example. Please set `input_example` parameter when logging the model to auto infer the model signature.\n",
            "2025/09/25 16:00:24 INFO mlflow.tracking._tracking_service.client: 🏃 View run TFIDF_Trigrams_max_features_10000 at: http://ec2-54-159-96-0.compute-1.amazonaws.com:5000/#/experiments/733156851355891025/runs/50a040d4b9a1452fb7fc0911f7ed27cb.\n",
            "2025/09/25 16:00:24 INFO mlflow.tracking._tracking_service.client: 🧪 View experiment at: http://ec2-54-159-96-0.compute-1.amazonaws.com:5000/#/experiments/733156851355891025.\n"
          ]
        }
      ],
      "source": [
        "# Step 1: Function to run the experiment\n",
        "def run_experiment_tfidf_max_features(max_features):\n",
        "    ngram_range = (1, 3)  # Trigram setting\n",
        "\n",
        "    # Step 2: Vectorization using TF-IDF with varying max_features\n",
        "    vectorizer = TfidfVectorizer(ngram_range=ngram_range, max_features=max_features)\n",
        "\n",
        "    X_train, X_test, y_train, y_test = train_test_split(df['clean_comment'], df['category'], test_size=0.2, random_state=42, stratify=df['category'])\n",
        "\n",
        "    X_train = vectorizer.fit_transform(X_train)\n",
        "    X_test = vectorizer.transform(X_test)\n",
        "\n",
        "    # Step 4: Define and train a Random Forest model\n",
        "    with mlflow.start_run() as run:\n",
        "        # Set tags for the experiment and run\n",
        "        mlflow.set_tag(\"mlflow.runName\", f\"TFIDF_Trigrams_max_features_{max_features}\")\n",
        "        mlflow.set_tag(\"experiment_type\", \"feature_engineering\")\n",
        "        mlflow.set_tag(\"model_type\", \"RandomForestClassifier\")\n",
        "\n",
        "        # Add a description\n",
        "        mlflow.set_tag(\"description\", f\"RandomForest with TF-IDF Trigrams, max_features={max_features}\")\n",
        "\n",
        "        # Log vectorizer parameters\n",
        "        mlflow.log_param(\"vectorizer_type\", \"TF-IDF\")\n",
        "        mlflow.log_param(\"ngram_range\", ngram_range)\n",
        "        mlflow.log_param(\"vectorizer_max_features\", max_features)\n",
        "\n",
        "        # Log Random Forest parameters\n",
        "        n_estimators = 200\n",
        "        max_depth = 15\n",
        "\n",
        "        mlflow.log_param(\"n_estimators\", n_estimators)\n",
        "        mlflow.log_param(\"max_depth\", max_depth)\n",
        "\n",
        "        # Initialize and train the model\n",
        "        model = RandomForestClassifier(n_estimators=n_estimators, max_depth=max_depth, random_state=42)\n",
        "        model.fit(X_train, y_train)\n",
        "\n",
        "        # Step 5: Make predictions and log metrics\n",
        "        y_pred = model.predict(X_test)\n",
        "\n",
        "        # Log accuracy\n",
        "        accuracy = accuracy_score(y_test, y_pred)\n",
        "        mlflow.log_metric(\"accuracy\", accuracy)\n",
        "\n",
        "        # Log classification report\n",
        "        classification_rep = classification_report(y_test, y_pred, output_dict=True)\n",
        "        for label, metrics in classification_rep.items():\n",
        "            if isinstance(metrics, dict):\n",
        "                for metric, value in metrics.items():\n",
        "                    mlflow.log_metric(f\"{label}_{metric}\", value)\n",
        "\n",
        "        # Log confusion matrix\n",
        "        conf_matrix = confusion_matrix(y_test, y_pred)\n",
        "        plt.figure(figsize=(8, 6))\n",
        "        sns.heatmap(conf_matrix, annot=True, fmt=\"d\", cmap=\"Blues\")\n",
        "        plt.xlabel(\"Predicted\")\n",
        "        plt.ylabel(\"Actual\")\n",
        "        plt.title(f\"Confusion Matrix: TF-IDF Trigrams, max_features={max_features}\")\n",
        "        plt.savefig(\"confusion_matrix.png\")\n",
        "        mlflow.log_artifact(\"confusion_matrix.png\")\n",
        "        plt.close()\n",
        "\n",
        "        # Log the model\n",
        "        mlflow.sklearn.log_model(model, f\"random_forest_model_tfidf_trigrams_{max_features}\")\n",
        "\n",
        "# Step 6: Test various max_features values\n",
        "max_features_values = [1000, 2000, 3000, 4000, 5000, 6000, 7000, 8000, 9000, 10000]\n",
        "\n",
        "for max_features in max_features_values:\n",
        "    run_experiment_tfidf_max_features(max_features)"
      ]
    },
    {
      "cell_type": "code",
      "execution_count": null,
      "metadata": {
        "id": "uHbWPC8Vm2Fm"
      },
      "outputs": [],
      "source": []
    }
  ],
  "metadata": {
    "colab": {
      "provenance": []
    },
    "kernelspec": {
      "display_name": "youtube",
      "language": "python",
      "name": "python3"
    },
    "language_info": {
      "codemirror_mode": {
        "name": "ipython",
        "version": 3
      },
      "file_extension": ".py",
      "mimetype": "text/x-python",
      "name": "python",
      "nbconvert_exporter": "python",
      "pygments_lexer": "ipython3",
      "version": "3.11.13"
    }
  },
  "nbformat": 4,
  "nbformat_minor": 0
}
